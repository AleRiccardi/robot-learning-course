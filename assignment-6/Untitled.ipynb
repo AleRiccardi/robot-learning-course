{
 "cells": [
  {
   "cell_type": "code",
   "execution_count": 28,
   "metadata": {},
   "outputs": [],
   "source": [
    "import numpy as np\n",
    "\n",
    "RED = 0\n",
    "BLACK = 1\n",
    "\n",
    "COLORS = {\n",
    "    RED: \"red\",\n",
    "    BLACK: \"black\"\n",
    "}\n",
    "\n",
    "PLAYER = \"p\"\n",
    "DEALER = \"d\"\n",
    "\n",
    "GAMERS = {\n",
    "    PLAYER: \"Player\",\n",
    "    DEALER: \"Dealer\"\n",
    "}"
   ]
  },
  {
   "cell_type": "code",
   "execution_count": 95,
   "metadata": {},
   "outputs": [],
   "source": [
    "def draw_card(state, gamer, only_black=False, show_res=False):\n",
    "    num = np.random.randint(1, 11)\n",
    "    color_p = 0 if only_black else np.random.uniform() \n",
    "    color = BLACK if color_p < 0.66666 else RED\n",
    "    score = num * (1 if color == BLACK else -1)\n",
    "\n",
    "    state[gamer] += score\n",
    "    \n",
    "    if show_res:\n",
    "        print(\"{}\\n * card: {} {}\\n * sum: {}\".format(GAMERS[gamer], num, COLORS[color], state[gamer])) \n",
    "\n",
    "def valid_score(state, gamer, final=False):\n",
    "    upper_lim = 21 if gamer == PLAYER else 17\n",
    "    if final:\n",
    "        return (1 <= state[gamer] < 21)\n",
    "    else:\n",
    "        return (1 <= state[gamer] <= upper_lim)\n",
    "\n",
    "\n",
    "def advance(s, a):\n",
    "    next_s = None\n",
    "    reward = None\n",
    "    \n",
    "    return next_s, reward\n",
    "\n",
    "def who_won(state):\n",
    "    print(\"\\n\\n\")\n",
    "    \n",
    "    if not valid_score(state, DEALER, final=True):\n",
    "        print(\"Player win, Dealer got busted\")\n",
    "        reward = 1\n",
    "    elif not valid_score(state, PLAYER, final=True):\n",
    "        print(\"Player lose, Player got busted\")\n",
    "        reward = 0\n",
    "    elif state[PLAYER] < state[DEALER]:\n",
    "        print(\"Player lose\")\n",
    "        reward = -1 # Lose\n",
    "    elif state[PLAYER] > state[DEALER]:\n",
    "        print(\"Player win\")\n",
    "        reward = 1 # Win\n",
    "    else:\n",
    "        print(\"Draw\")\n",
    "        reward = 0 # Draw\n",
    "    \n",
    "    return reward\n",
    "\n",
    "def human_decision():\n",
    "    return int(input(\"\\n1) Hit or 2) Stuck: \")) - 1\n",
    "\n",
    "def player_game(state):    \n",
    "    while valid_score(state, PLAYER):        \n",
    "        if human_decision():\n",
    "            break\n",
    "        \n",
    "        draw_card(state, PLAYER, False, True)\n",
    "    print(\"\\n===================\\n\")\n",
    "    return state\n",
    "\n",
    "def dealer_game(state):\n",
    "    while valid_score(state, DEALER):        \n",
    "        draw_card(state, DEALER, False, True)\n",
    "    \n",
    "    return state\n",
    "\n",
    "def main_game():\n",
    "    \n",
    "    while True:\n",
    "        print(\"\\n\\n===================\")\n",
    "        print(\"BeCareful match\")\n",
    "        print(\"===================\")\n",
    "        \n",
    "        state = {'p': 0, 'd': 0}\n",
    "        # Initial Draw\n",
    "        draw_card(state, PLAYER, True, True)\n",
    "        draw_card(state, DEALER, True, True)\n",
    "    \n",
    "        state = player_game(state)\n",
    "        state = dealer_game(state)\n",
    "        reward = who_won(state)\n",
    "        \n",
    "        if (int(input(\"Continue? 1) Yes or 2) No: \")) - 1) == 1:\n",
    "            break\n",
    "    \n",
    "    return\n",
    "    \n",
    "    "
   ]
  },
  {
   "cell_type": "code",
   "execution_count": null,
   "metadata": {},
   "outputs": [
    {
     "name": "stdout",
     "output_type": "stream",
     "text": [
      "\n",
      "\n",
      "===================\n",
      "BeCareful match\n",
      "===================\n",
      "Player\n",
      " * card: 4 black\n",
      " * sum: 4\n",
      "Dealer\n",
      " * card: 5 black\n",
      " * sum: 5\n"
     ]
    },
    {
     "name": "stdin",
     "output_type": "stream",
     "text": [
      "\n",
      "1) Hit or 2) Stuck:  1\n"
     ]
    },
    {
     "name": "stdout",
     "output_type": "stream",
     "text": [
      "Player\n",
      " * card: 9 black\n",
      " * sum: 13\n"
     ]
    },
    {
     "name": "stdin",
     "output_type": "stream",
     "text": [
      "\n",
      "1) Hit or 2) Stuck:  2\n"
     ]
    },
    {
     "name": "stdout",
     "output_type": "stream",
     "text": [
      "\n",
      "===================\n",
      "\n",
      "Dealer\n",
      " * card: 7 red\n",
      " * sum: -2\n",
      "\n",
      "===================\n",
      "\n",
      "Player win, Dealer got busted\n"
     ]
    },
    {
     "name": "stdin",
     "output_type": "stream",
     "text": [
      "Continue? 1) Yes or 2) No:  1\n"
     ]
    },
    {
     "name": "stdout",
     "output_type": "stream",
     "text": [
      "\n",
      "\n",
      "===================\n",
      "BeCareful match\n",
      "===================\n",
      "Player\n",
      " * card: 2 black\n",
      " * sum: 2\n",
      "Dealer\n",
      " * card: 3 black\n",
      " * sum: 3\n"
     ]
    },
    {
     "name": "stdin",
     "output_type": "stream",
     "text": [
      "\n",
      "1) Hit or 2) Stuck:  2\n"
     ]
    },
    {
     "name": "stdout",
     "output_type": "stream",
     "text": [
      "\n",
      "===================\n",
      "\n",
      "Dealer\n",
      " * card: 8 black\n",
      " * sum: 11\n",
      "Dealer\n",
      " * card: 10 red\n",
      " * sum: 1\n",
      "Dealer\n",
      " * card: 8 red\n",
      " * sum: -7\n",
      "\n",
      "===================\n",
      "\n",
      "Player win, Dealer got busted\n"
     ]
    },
    {
     "name": "stdin",
     "output_type": "stream",
     "text": [
      "Continue? 1) Yes or 2) No:  1\n"
     ]
    },
    {
     "name": "stdout",
     "output_type": "stream",
     "text": [
      "\n",
      "\n",
      "===================\n",
      "BeCareful match\n",
      "===================\n",
      "Player\n",
      " * card: 9 black\n",
      " * sum: 9\n",
      "Dealer\n",
      " * card: 6 black\n",
      " * sum: 6\n"
     ]
    },
    {
     "name": "stdin",
     "output_type": "stream",
     "text": [
      "\n",
      "1) Hit or 2) Stuck:  2\n"
     ]
    },
    {
     "name": "stdout",
     "output_type": "stream",
     "text": [
      "\n",
      "===================\n",
      "\n",
      "Dealer\n",
      " * card: 7 red\n",
      " * sum: -1\n",
      "\n",
      "===================\n",
      "\n",
      "Player win, Dealer got busted\n"
     ]
    },
    {
     "name": "stdin",
     "output_type": "stream",
     "text": [
      "Continue? 1) Yes or 2) No:  1\n"
     ]
    },
    {
     "name": "stdout",
     "output_type": "stream",
     "text": [
      "\n",
      "\n",
      "===================\n",
      "BeCareful match\n",
      "===================\n",
      "Player\n",
      " * card: 2 black\n",
      " * sum: 2\n",
      "Dealer\n",
      " * card: 4 black\n",
      " * sum: 4\n"
     ]
    },
    {
     "name": "stdin",
     "output_type": "stream",
     "text": [
      "\n",
      "1) Hit or 2) Stuck:  2\n"
     ]
    },
    {
     "name": "stdout",
     "output_type": "stream",
     "text": [
      "\n",
      "===================\n",
      "\n",
      "Dealer\n",
      " * card: 5 black\n",
      " * sum: 9\n",
      "Dealer\n",
      " * card: 4 black\n",
      " * sum: 13\n",
      "Dealer\n",
      " * card: 7 black\n",
      " * sum: 20\n",
      "\n",
      "===================\n",
      "\n",
      "Player lose\n"
     ]
    }
   ],
   "source": [
    "main_game()"
   ]
  },
  {
   "cell_type": "markdown",
   "metadata": {},
   "source": []
  }
 ],
 "metadata": {
  "kernelspec": {
   "display_name": "Python 3.6.9 64-bit ('.env': venv)",
   "language": "python",
   "name": "python36964bitenvvenv1fd31f0164c24c7fb3088d78ebc975ec"
  },
  "language_info": {
   "codemirror_mode": {
    "name": "ipython",
    "version": 3
   },
   "file_extension": ".py",
   "mimetype": "text/x-python",
   "name": "python",
   "nbconvert_exporter": "python",
   "pygments_lexer": "ipython3",
   "version": "3.6.9"
  }
 },
 "nbformat": 4,
 "nbformat_minor": 4
}

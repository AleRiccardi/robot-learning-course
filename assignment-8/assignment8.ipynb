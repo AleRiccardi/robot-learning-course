{
 "cells": [
  {
   "cell_type": "markdown",
   "metadata": {},
   "source": [
    "## Task 8.1"
   ]
  },
  {
   "cell_type": "code",
   "execution_count": 330,
   "metadata": {},
   "outputs": [
    {
     "name": "stdout",
     "output_type": "stream",
     "text": [
      "[5.4179566912589, 4.703197099464097]\n"
     ]
    }
   ],
   "source": [
    "# Imports\n",
    "import numpy as np\n",
    "\n",
    "# Global variables\n",
    "M = 4\n",
    "S = 0.01 \n",
    "L = 0.3\n",
    "G = 9.8\n",
    "\n",
    "# Initial state\n",
    "state = [0.3, -1]\n",
    "\n",
    "# Compute next state\n",
    "# using motion equations\n",
    "def next_state_non_linear(state):\n",
    "    # Compute acceleration\n",
    "    new_acceleration = (G/L) * np.sin(state[0])\n",
    "    \n",
    "    # Compute next angle\n",
    "    new_velocity = state[1] + new_acceleration * S\n",
    "    \n",
    "    # Compute next angular velocity\n",
    "    new_angle = state[0] + new_velocity * S\n",
    "        \n",
    "    # Return new state\n",
    "    return [new_angle, new_velocity]\n",
    "\n",
    "\n",
    "for x in range(int(1//S)):\n",
    "    state = next_state_non_linear(state)\n",
    "\n",
    "print(state)"
   ]
  },
  {
   "cell_type": "markdown",
   "metadata": {},
   "source": [
    "## Task 8.2"
   ]
  },
  {
   "cell_type": "code",
   "execution_count": 331,
   "metadata": {},
   "outputs": [],
   "source": [
    "A = np.matrix([[1, S], [(G/L) * S, 1]])\n",
    "B = np.matrix([[0,S]]).T"
   ]
  },
  {
   "cell_type": "code",
   "execution_count": 332,
   "metadata": {},
   "outputs": [
    {
     "name": "stdout",
     "output_type": "stream",
     "text": [
      "[[0.96563031]\n",
      " [5.36722952]]\n"
     ]
    }
   ],
   "source": [
    "state = np.array([[0.3, -1]]).T\n",
    "\n",
    "for x in range(int(0.5//S)):\n",
    "    state = np.dot(A, state)\n",
    "\n",
    "print(state)"
   ]
  },
  {
   "cell_type": "markdown",
   "metadata": {},
   "source": [
    "## Task 8.3"
   ]
  },
  {
   "cell_type": "code",
   "execution_count": 333,
   "metadata": {},
   "outputs": [
    {
     "name": "stdout",
     "output_type": "stream",
     "text": [
      "[[0.94786935]\n",
      " [5.21056728]]\n"
     ]
    }
   ],
   "source": [
    "state = np.array([[0.3, -1]]).T\n",
    "interval = 0.5 # seconds\n",
    "actions= []\n",
    "states = []\n",
    "\n",
    "def cost_func(state):\n",
    "    return float(state[0]**2)\n",
    "\n",
    "for x in range(int(interval//S)):\n",
    "    cost = cost_func(state)\n",
    "    action = float(np.sign(state[0]) * -1 * cost)\n",
    "    state = np.dot(A, state) + np.dot(B, action)\n",
    "    actions.append(action)\n",
    "    states.append(state)\n",
    "\n",
    "print(state)"
   ]
  },
  {
   "cell_type": "markdown",
   "metadata": {},
   "source": [
    "## Task 8.4"
   ]
  },
  {
   "cell_type": "code",
   "execution_count": 334,
   "metadata": {},
   "outputs": [],
   "source": [
    "state = np.array([[0.3, -1]]).T\n",
    "\n",
    "A = np.matrix([[1, S], [(G/L) * S, 1]])\n",
    "B = np.matrix([[0,S]]).T\n",
    "Q = np.random.rand(2,2)\n",
    "R = np.random.rand(1,1)\n",
    "\n",
    "phis = [-(np.copy(Q))] * len(states)\n",
    "psis = [0] * len(states)\n",
    "sigma = np.array([[.01,.04]])"
   ]
  },
  {
   "cell_type": "code",
   "execution_count": 335,
   "metadata": {},
   "outputs": [],
   "source": [
    "# Recursively compute Phi and Psi\n",
    "for i in range(len(states)-2, -1, -1):\n",
    "    phis[i] = actions[i] * (phis[i+1] - np.dot(np.dot(np.dot(np.dot(phis[i+1], B), np.linalg.inv(np.dot(np.dot(B.T, phis[i+1]),B) - R)), B.T), phis[i+1])) * actions[i] - Q\n",
    "    psis[i] = - np.trace(np.dot(sigma, phis[i+1])) + psis[i]"
   ]
  },
  {
   "cell_type": "code",
   "execution_count": 336,
   "metadata": {},
   "outputs": [
    {
     "name": "stdout",
     "output_type": "stream",
     "text": [
      "[[0.91382573]\n",
      " [5.05309006]]\n"
     ]
    }
   ],
   "source": [
    "state = np.array([[0.3, -1]]).T\n",
    "values = []\n",
    "\n",
    "for i in range(int(interval//S)):\n",
    "    if (i == int(0.5//S)-1):\n",
    "        break\n",
    "    G = (phis[i+1] - np.dot(np.dot(np.dot(np.dot(phis[i+1], B), np.linalg.inv(np.dot(np.dot(B.T, phis[i+1]),B) - R)), B.T), phis[i+1]))\n",
    "    phis[i] = actions[i] * G * actions[i] - Q\n",
    "    L = np.dot(np.dot(np.dot(np.linalg.inv(np.dot(np.dot(B.T, phis[i+1]), B) - R), B.T), phis[i+1]), A)\n",
    "    action = float(-np.dot(L, state))\n",
    "    state = np.dot(A, state) + np.dot(B, action)\n",
    "    value = float(np.dot(np.dot(state.T, phis[i]), state) + psis[i])\n",
    "    actions[i] = action\n",
    "    states[i] = state\n",
    "    values.append(value)\n",
    "\n",
    "print(state)"
   ]
  },
  {
   "cell_type": "markdown",
   "metadata": {},
   "source": [
    "## Task 8.5"
   ]
  },
  {
   "cell_type": "code",
   "execution_count": 337,
   "metadata": {},
   "outputs": [
    {
     "data": {
      "text/plain": [
       "[-0.5109707677087613,\n",
       " -0.3903589621019586,\n",
       " -0.28812124263614913,\n",
       " -0.20265461988917194,\n",
       " -0.13261644462235248,\n",
       " -0.07689623916267951,\n",
       " -0.03459340450188683,\n",
       " -0.004999685793682457,\n",
       " 0.012414410775575233,\n",
       " 0.01800983178253017,\n",
       " 0.011986236846576431,\n",
       " -0.005613404671191067,\n",
       " -0.03490068916366539,\n",
       " -0.07614201571059541,\n",
       " -0.1297611434859707,\n",
       " -0.19634409330948233,\n",
       " -0.276646481437874,\n",
       " -0.37160344274579526,\n",
       " -0.48234237940419533,\n",
       " -0.610198866368975,\n",
       " -0.7567361646133329,\n",
       " -0.9237689480918181,\n",
       " -1.1133920562153865,\n",
       " -1.3280153618292985,\n",
       " -1.5704062265225982,\n",
       " -1.8437415460725533,\n",
       " -2.151672136229044,\n",
       " -2.4984032738061956,\n",
       " -2.8887967440297784,\n",
       " -3.328501991134921,\n",
       " -3.8241273038641435,\n",
       " -4.3834670050800275,\n",
       " -5.015808379337531,\n",
       " -5.732354325171137,\n",
       " -6.546817599587825,\n",
       " -7.476275870244397,\n",
       " -8.542435044369276,\n",
       " -9.773555425741186,\n",
       " -11.207505438847022,\n",
       " -12.896853537382562,\n",
       " -14.91790356752144,\n",
       " -17.387571418170783,\n",
       " -20.493617443540806,\n",
       " -24.53158288045986,\n",
       " -29.86782701530367,\n",
       " -36.54871758380551,\n",
       " -43.10513488797942,\n",
       " -44.70477371124067]"
      ]
     },
     "execution_count": 337,
     "metadata": {},
     "output_type": "execute_result"
    }
   ],
   "source": [
    "values"
   ]
  },
  {
   "cell_type": "code",
   "execution_count": null,
   "metadata": {},
   "outputs": [],
   "source": []
  }
 ],
 "metadata": {
  "kernelspec": {
   "display_name": "Python 3",
   "language": "python",
   "name": "python3"
  },
  "language_info": {
   "codemirror_mode": {
    "name": "ipython",
    "version": 3
   },
   "file_extension": ".py",
   "mimetype": "text/x-python",
   "name": "python",
   "nbconvert_exporter": "python",
   "pygments_lexer": "ipython3",
   "version": "3.6.9"
  }
 },
 "nbformat": 4,
 "nbformat_minor": 4
}

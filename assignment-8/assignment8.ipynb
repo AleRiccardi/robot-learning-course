{
 "cells": [
  {
   "cell_type": "markdown",
   "metadata": {},
   "source": [
    "## Task 8.1"
   ]
  },
  {
   "cell_type": "code",
   "execution_count": 254,
   "metadata": {},
   "outputs": [
    {
     "name": "stdout",
     "output_type": "stream",
     "text": [
      "Initial state:  [0.3, -1]\n",
      "Final state:  [0.2814520237292153, 0.7017407023857654]\n"
     ]
    }
   ],
   "source": [
    "# Imports\n",
    "import numpy as np\n",
    "\n",
    "# Global variables\n",
    "M = 4\n",
    "S = 0.01 \n",
    "L = 0.3\n",
    "G = 9.8\n",
    "\n",
    "# Initial state\n",
    "state = [0.3, -1]\n",
    "\n",
    "# Compute next state\n",
    "# using motion equations\n",
    "def next_state_non_linear(state):\n",
    "    # Compute acceleration\n",
    "    new_acceleration = (G/L) * np.sin(state[0])\n",
    "    \n",
    "    # Compute next angle\n",
    "    new_velocity = state[1] + new_acceleration * S\n",
    "    \n",
    "    # Compute next angular velocity\n",
    "    new_angle = state[0] + new_velocity * S\n",
    "        \n",
    "    # Return new state\n",
    "    return [new_angle, new_velocity]\n",
    "\n",
    "print(\"Initial state: \", state)\n",
    "\n",
    "for x in range(int(0.2//S)):\n",
    "    state = next_state_non_linear(state)\n",
    "\n",
    "print(\"Final state: \", state)"
   ]
  },
  {
   "cell_type": "markdown",
   "metadata": {},
   "source": [
    "## Task 8.2"
   ]
  },
  {
   "cell_type": "code",
   "execution_count": 255,
   "metadata": {},
   "outputs": [],
   "source": [
    "A = np.matrix([[1, S], [(G/L) * S, 1]])\n",
    "B = np.matrix([[0,S]]).T"
   ]
  },
  {
   "cell_type": "code",
   "execution_count": 256,
   "metadata": {},
   "outputs": [
    {
     "name": "stdout",
     "output_type": "stream",
     "text": [
      "[[0.96563031]\n",
      " [5.36722952]]\n"
     ]
    }
   ],
   "source": [
    "state = np.array([[0.3, -1]]).T\n",
    "\n",
    "for x in range(int(0.5//S)):\n",
    "    state = np.dot(A, state)\n",
    "print(state)"
   ]
  },
  {
   "cell_type": "markdown",
   "metadata": {},
   "source": [
    "## Task 8.3"
   ]
  },
  {
   "cell_type": "code",
   "execution_count": 257,
   "metadata": {},
   "outputs": [
    {
     "name": "stdout",
     "output_type": "stream",
     "text": [
      "[[0.94786935]\n",
      " [5.21056728]]\n"
     ]
    }
   ],
   "source": [
    "state = np.array([[0.3, -1]]).T\n",
    "\n",
    "actions= []\n",
    "states = []\n",
    "\n",
    "def cost_func(state):\n",
    "    return float(state[0]**2)\n",
    "\n",
    "for x in range(int(0.5//S)):\n",
    "    cost = cost_func(state)\n",
    "    action = float(np.sign(state[0]) * -1 * cost)\n",
    "    state = np.dot(A, state) + np.dot(B, action)\n",
    "    actions.append(action)\n",
    "    states.append(state)\n",
    "print(state)"
   ]
  },
  {
   "cell_type": "markdown",
   "metadata": {},
   "source": [
    "## Task 8.4"
   ]
  },
  {
   "cell_type": "code",
   "execution_count": 258,
   "metadata": {},
   "outputs": [],
   "source": [
    "state = np.array([[0.3, -1]]).T\n",
    "\n",
    "A = np.matrix([[1, S], [(G/L) * S, 1]])\n",
    "B = np.matrix([[0,S]]).T\n",
    "Q = np.random.rand(2,2)\n",
    "R = np.random.rand(1,1)\n",
    "\n",
    "phis = [-(np.copy(Q))] * len(states)\n",
    "psis = [0] * len(states)\n"
   ]
  },
  {
   "cell_type": "code",
   "execution_count": 261,
   "metadata": {},
   "outputs": [],
   "source": [
    "for i in range(len(states)-2, -1, -1):\n",
    "    G = (phis[i+1] - np.dot(np.dot(np.dot(np.dot(phis[i+1], B), np.linalg.inv(np.dot(np.dot(B.T, phis[i+1]),B) - R)), B.T), phis[i+1]))\n",
    "    phis[i] = actions[i] * G * actions[i] - Q"
   ]
  },
  {
   "cell_type": "code",
   "execution_count": 262,
   "metadata": {},
   "outputs": [
    {
     "name": "stdout",
     "output_type": "stream",
     "text": [
      "[[0.91438913]\n",
      " [5.06221498]]\n"
     ]
    }
   ],
   "source": [
    "state = np.array([[0.3, -1]]).T\n",
    "\n",
    "for i in range(int(0.5//S)):\n",
    "    if (i == int(0.5//S)-1):\n",
    "        break\n",
    "    G = (phis[i+1] - np.dot(np.dot(np.dot(np.dot(phis[i+1], B), np.linalg.inv(np.dot(np.dot(B.T, phis[i+1]),B) - R)), B.T), phis[i+1]))\n",
    "    phis[i] = actions[i] * G * actions[i] - Q\n",
    "    L = np.dot(np.dot(np.dot(np.linalg.inv(np.dot(np.dot(B.T, phis[i+1]), B) - R), B.T), phis[i+1]), A)\n",
    "    action = float(-np.dot(L, state))\n",
    "    state = np.dot(A, state) + np.dot(B, action)\n",
    "    actions[i] = action\n",
    "    states[i] = state\n",
    "print(state)"
   ]
  },
  {
   "cell_type": "code",
   "execution_count": 205,
   "metadata": {},
   "outputs": [
    {
     "data": {
      "text/plain": [
       "matrix([[12.95194282],\n",
       "        [73.97379886]])"
      ]
     },
     "execution_count": 205,
     "metadata": {},
     "output_type": "execute_result"
    }
   ],
   "source": [
    "state"
   ]
  },
  {
   "cell_type": "code",
   "execution_count": null,
   "metadata": {},
   "outputs": [],
   "source": []
  }
 ],
 "metadata": {
  "kernelspec": {
   "display_name": "Python 3",
   "language": "python",
   "name": "python3"
  },
  "language_info": {
   "codemirror_mode": {
    "name": "ipython",
    "version": 3
   },
   "file_extension": ".py",
   "mimetype": "text/x-python",
   "name": "python",
   "nbconvert_exporter": "python",
   "pygments_lexer": "ipython3",
   "version": "3.6.9"
  }
 },
 "nbformat": 4,
 "nbformat_minor": 4
}

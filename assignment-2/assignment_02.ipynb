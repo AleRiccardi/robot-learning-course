{
 "cells": [
  {
   "cell_type": "code",
   "execution_count": 2,
   "metadata": {},
   "outputs": [],
   "source": [
    "# Imports\n",
    "import numpy as np"
   ]
  },
  {
   "cell_type": "markdown",
   "metadata": {},
   "source": [
    "## Exercise 2.1"
   ]
  },
  {
   "cell_type": "code",
   "execution_count": 11,
   "metadata": {},
   "outputs": [],
   "source": [
    "# Arms rewards\n",
    "INTERVALS = [(-4,3),(1,5),(2,3),(-2,5),(0,4),(1,4),(3,7)]\n",
    "\n",
    "# Expected value of every arm\n",
    "arms_expected = np.zeros(7)\n",
    "for x, interval in enumerate(INTERVALS):\n",
    "    arms_expected[x] = (interval[-1] + interval[0])/2"
   ]
  },
  {
   "cell_type": "markdown",
   "metadata": {},
   "source": [
    "Expected reward for each arm"
   ]
  },
  {
   "cell_type": "code",
   "execution_count": 10,
   "metadata": {},
   "outputs": [
    {
     "data": {
      "text/plain": [
       "array([-0.5,  3. ,  2.5,  1.5,  2. ,  2.5,  5. ])"
      ]
     },
     "execution_count": 10,
     "metadata": {},
     "output_type": "execute_result"
    }
   ],
   "source": [
    "arms_expected"
   ]
  },
  {
   "cell_type": "markdown",
   "metadata": {},
   "source": [
    "Expected reward random action"
   ]
  },
  {
   "cell_type": "code",
   "execution_count": 13,
   "metadata": {},
   "outputs": [
    {
     "data": {
      "text/plain": [
       "2.2857142857142856"
      ]
     },
     "execution_count": 13,
     "metadata": {},
     "output_type": "execute_result"
    }
   ],
   "source": [
    "arms_expected.mean()"
   ]
  },
  {
   "cell_type": "markdown",
   "metadata": {},
   "source": [
    "## Exercise 2.2"
   ]
  },
  {
   "cell_type": "code",
   "execution_count": 18,
   "metadata": {},
   "outputs": [],
   "source": [
    "# Draw sample from reward interval\n",
    "def get_reward(action):\n",
    "    interval = INTERVALS[action]\n",
    "    return np.random.random_integers(interval[0],interval[-1]-1)"
   ]
  },
  {
   "cell_type": "code",
   "execution_count": 17,
   "metadata": {},
   "outputs": [],
   "source": [
    "# Action/Reward table\n",
    "Q = [[] for x in range(7)]\n",
    "\n",
    "# Percentage table\n",
    "P = []\n",
    "\n",
    "# Epsilon\n",
    "e = 0.1\n",
    "\n",
    "for x in range(2000):\n",
    "    # Exploit or Explore\n",
    "    if numpy.random.uniform(0,1) > 0.1:\n",
    "        #TODO: exploit\n",
    "    else: \n",
    "        # Choose random action (i.e. arm)\n",
    "        action = np.random.random_integers(0,6)\n",
    "            \n",
    "        # Sample new reward for\n",
    "        # the given action\n",
    "        reward = get_reward(action)\n",
    "\n",
    "        # Update Q table\n",
    "        Q[action].append(reward)\n",
    "        \n",
    "        "
   ]
  },
  {
   "cell_type": "code",
   "execution_count": null,
   "metadata": {},
   "outputs": [],
   "source": []
  }
 ],
 "metadata": {
  "kernelspec": {
   "display_name": "Python 3",
   "language": "python",
   "name": "python3"
  },
  "language_info": {
   "codemirror_mode": {
    "name": "ipython",
    "version": 3
   },
   "file_extension": ".py",
   "mimetype": "text/x-python",
   "name": "python",
   "nbconvert_exporter": "python",
   "pygments_lexer": "ipython3",
   "version": "3.7.2"
  }
 },
 "nbformat": 4,
 "nbformat_minor": 4
}

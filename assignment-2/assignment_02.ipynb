{
 "cells": [
  {
   "cell_type": "code",
   "execution_count": 16,
   "metadata": {},
   "outputs": [],
   "source": [
    "# Imports\n",
    "import numpy as np\n",
    "import matplotlib.pyplot as plt"
   ]
  },
  {
   "cell_type": "markdown",
   "metadata": {},
   "source": [
    "## Exercise 2.1"
   ]
  },
  {
   "cell_type": "code",
   "execution_count": 17,
   "metadata": {},
   "outputs": [],
   "source": [
    "# Arms rewards\n",
    "INTERVALS = [(-4,3),(1,5),(2,3),(-2,5),(0,4),(1,4),(3,7)]\n",
    "\n",
    "# Expected value of every arm\n",
    "arms_expected = np.zeros(7)\n",
    "for x, interval in enumerate(INTERVALS):\n",
    "    arms_expected[x] = (interval[-1] + interval[0])/2"
   ]
  },
  {
   "cell_type": "markdown",
   "metadata": {},
   "source": [
    "Expected reward for each arm"
   ]
  },
  {
   "cell_type": "code",
   "execution_count": 18,
   "metadata": {},
   "outputs": [
    {
     "data": {
      "text/plain": [
       "array([-0.5,  3. ,  2.5,  1.5,  2. ,  2.5,  5. ])"
      ]
     },
     "execution_count": 18,
     "metadata": {},
     "output_type": "execute_result"
    }
   ],
   "source": [
    "arms_expected"
   ]
  },
  {
   "cell_type": "markdown",
   "metadata": {},
   "source": [
    "Expected reward random action"
   ]
  },
  {
   "cell_type": "code",
   "execution_count": 19,
   "metadata": {},
   "outputs": [
    {
     "data": {
      "text/plain": [
       "2.2857142857142856"
      ]
     },
     "execution_count": 19,
     "metadata": {},
     "output_type": "execute_result"
    }
   ],
   "source": [
    "arms_expected.mean()"
   ]
  },
  {
   "cell_type": "markdown",
   "metadata": {},
   "source": [
    "## Exercise 2.2"
   ]
  },
  {
   "cell_type": "code",
   "execution_count": 110,
   "metadata": {},
   "outputs": [],
   "source": [
    "# Draw sample from reward interval\n",
    "def get_reward(action):\n",
    "    interval = INTERVALS[action]\n",
    "    return np.random.randint(interval[0], interval[1])\n",
    "\n",
    "# Get the greedy action\n",
    "def get_greedy_action(Q):    \n",
    "    avg_rews = [sum(arm_rews) / len(arm_rews) if len(arm_rews) > 0 else -np.inf for arm_rews in Q]\n",
    "    action = avg_rews.index(max(avg_rews))\n",
    "    return action\n",
    "\n",
    "def compute_action(Q, greedy=True):\n",
    "    if greedy:\n",
    "        action = get_greedy_action(Q)\n",
    "    else:\n",
    "        action = np.random.randint(0,7)\n",
    "    \n",
    "    # Sample new reward for\n",
    "    # the given action\n",
    "    reward = get_reward(action)\n",
    "\n",
    "    # Update Q table\n",
    "    Q[action].append(reward)\n",
    "        \n",
    "        \n",
    "colors = [\"-r\", \"-b\", \"-c\", \"-g\",\"-m\", \"-y\", \"-y\", \"-k\"]\n",
    "XYs = [[[], []]] * 8\n",
    "\n",
    "def save_usage(Q, count):\n",
    "\n",
    "    percentages = [0] * 7\n",
    "    \n",
    "    for idx in range(len(Q)):\n",
    "        if len(Q[idx]) != 0:\n",
    "            percentages[idx] = sum(Q[idx]) / len(Q[idx])\n",
    "            \n",
    "    print(percentages)\n",
    "    print(Q)\n",
    "    # Plot percentage arms\n",
    "    for idx in range(len(Q)):\n",
    "        XYs[idx][0].append(count)\n",
    "        XYs[idx][1].append(percentages[idx])\n",
    "    \n",
    "    XYs[7][0].append(count)\n",
    "    XYs[7][1].append(np.concatenate(Q).ravel().mean())    \n",
    "\n",
    "def show_usage():\n",
    "    for idx, color in enumerate(colors):\n",
    "        # Plot avarage result\n",
    "        plt.plot(XYs[idx][0], XYs[idx][1], color)\n",
    "        plt.show()\n",
    "    "
   ]
  },
  {
   "cell_type": "code",
   "execution_count": null,
   "metadata": {},
   "outputs": [],
   "source": [
    "# Action/Reward table\n",
    "Q = [[]] * 7\n",
    "\n",
    "# Epsilon\n",
    "e = 0.1\n",
    "\n",
    "for x in range(2000):\n",
    "    # Exploit or Explore\n",
    "    if np.random.uniform(0,1) > 0.1:\n",
    "        #TODO: exploit\n",
    "        compute_action(Q, True)\n",
    "        \n",
    "    else: \n",
    "        # Choose random action (i.e. arm)\n",
    "        compute_action(Q, False)\n",
    "    \n",
    "    if x % 100 == 0:\n",
    "        save_usage(Q, x)\n",
    "\n",
    "show_usage()"
   ]
  },
  {
   "cell_type": "code",
   "execution_count": 113,
   "metadata": {},
   "outputs": [],
   "source": [
    "a = [\n",
    "    [1, 2],\n",
    "    [],\n",
    "    [0, 3],\n",
    "    [0,5]\n",
    "]"
   ]
  },
  {
   "cell_type": "code",
   "execution_count": 125,
   "metadata": {},
   "outputs": [
    {
     "data": {
      "text/plain": [
       "[[1, 2, -2], [], [0, 3, 2, 2, 2, 2, 2, 2, 2, 2, 2], [0, 5, -1]]"
      ]
     },
     "execution_count": 125,
     "metadata": {},
     "output_type": "execute_result"
    }
   ],
   "source": [
    "compute_action(a)\n",
    "a"
   ]
  },
  {
   "cell_type": "code",
   "execution_count": 117,
   "metadata": {},
   "outputs": [
    {
     "data": {
      "image/png": "[encoded data removed]",
      "text/plain": [
       "<Figure size 432x288 with 1 Axes>"
      ]
     },
     "metadata": {
      "needs_background": "light"
     },
     "output_type": "display_data"
    }
   ],
   "source": [
    "plt.plot([2, 2], [1, 2], \"-k\")\n",
    "plt.plot([1, 2], [1, 2], \"-r\")\n",
    "plt.show()"
   ]
  },
  {
   "cell_type": "code",
   "execution_count": 99,
   "metadata": {},
   "outputs": [],
   "source": [
    "l = [[[], []]] * 8\n",
    "l[7][0].append(1)"
   ]
  },
  {
   "cell_type": "code",
   "execution_count": null,
   "metadata": {},
   "outputs": [],
   "source": []
  }
 ],
 "metadata": {
  "kernelspec": {
   "display_name": "Python 3",
   "language": "python",
   "name": "python3"
  },
  "language_info": {
   "codemirror_mode": {
    "name": "ipython",
    "version": 3
   },
   "file_extension": ".py",
   "mimetype": "text/x-python",
   "name": "python",
   "nbconvert_exporter": "python",
   "pygments_lexer": "ipython3",
   "version": "3.6.9"
  }
 },
 "nbformat": 4,
 "nbformat_minor": 4
}

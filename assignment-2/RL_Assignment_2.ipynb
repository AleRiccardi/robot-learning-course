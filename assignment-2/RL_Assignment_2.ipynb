{
 "cells": [
  {
   "cell_type": "markdown",
   "metadata": {},
   "source": [
    "# Assignment Sheet 2\n",
    "## Solution examples\n",
    "\n",
    "## Task 2.1) \n",
    "Given is a seven-armed bandit, as introduced in the lecture.\n",
    "\n",
    "The first arm shall sample its reward uniformly from the interval $[-4, 3)$.\n",
    "\n",
    "The second arm shall sample its reward uniformly from $[1, 5)$.\n",
    "\n",
    "The third arm shall sample its reward uniformly from the interval $[2, 3)$.\n",
    "\n",
    "The fourth arm shall sample its reward uniformly from $[–2, 5)$.\n",
    "\n",
    "The fifth arm shall sample its reward uniformly from $[0, 4)$.\n",
    "\n",
    "The sixth arm shall sample its reward uniformly from $[1, 4)$.\n",
    "\n",
    "The seventh arm shall sample its reward uniformly from $[3, 7)$.\n",
    "\n",
    "### What is the expected reward when actions are chosen uniformly?\n",
    "\n",
    "First, we calculate the expected value of each arm individually:\n",
    "\n",
    "Arm 1: $0.5\\cdot(-4+3)=-0.5$\n",
    "\n",
    "Arm 2: $0.5\\cdot(1+5)=3$\n",
    "\n",
    "Arm 3: $0.5\\cdot(2+3)=2.5$\n",
    "\n",
    "Arm 4: $0.5\\cdot(-2+5)=1.5$\n",
    "\n",
    "Arm 5: $0.5\\cdot(0+4)=2$\n",
    "\n",
    "Arm 6: $0.5\\cdot(1+4)=2.5$\n",
    "\n",
    "Arm 7: $0.5\\cdot(3+7)=5$\n",
    "\n",
    "Clearly, pulling 7 is the optimal action.\n",
    "\n",
    "Finally, we form the expectation over sampling these arms uniformly:\n",
    "\n",
    "$\\frac{1}{7}\\cdot (-0.5) + \\frac{1}{7}\\cdot 3 + \\frac{1}{7}\\cdot 2.5 + \\frac{1}{7}\\cdot1.5 + \\frac{1}{7}\\cdot2 + \\frac{1}{7}\\cdot2.5 + \\frac{1}{7}\\cdot5 \\approx 2.29$"
   ]
  },
  {
   "cell_type": "markdown",
   "metadata": {},
   "source": [
    "## Task 2.2)\n",
    "Implement the seven-armed bandit from $\\textbf{2.1)}$!\n",
    "\n",
    "Initialize $Q(a_i)=0$ and chose $2000$ actions according to an $\\epsilon$-greedy selection strategy ($\\epsilon=0.1$).\n",
    "\n",
    "Update your action values by computing the sample average reward of each action recursively.\n",
    "For every $100$ actions show the percentage of choosing arm $1$, arm $2$, arm $3$, arm $4$, arm $5$,\n",
    "arm $6$ and arm $7$ as well as the resulting average reward. "
   ]
  },
  {
   "cell_type": "code",
   "execution_count": 1,
   "metadata": {},
   "outputs": [],
   "source": [
    "import numpy as np\n",
    "import matplotlib.pyplot as plt\n",
    "\n",
    "np.random.seed(2020)\n",
    "\n",
    "def arm1():\n",
    "    return np.random.uniform(-4,3)\n",
    "def arm2():\n",
    "    return np.random.uniform(1,5)\n",
    "def arm3():\n",
    "    return np.random.uniform(2,3)\n",
    "def arm4():\n",
    "        return np.random.uniform(-2,5)\n",
    "def arm5():\n",
    "    return np.random.uniform(0,4)\n",
    "def arm6():\n",
    "    return np.random.uniform(1,4)\n",
    "def arm7():\n",
    "    return np.random.uniform(3,7)\n",
    "\n",
    "arm = [arm1, arm2, arm3, arm4, arm5, arm6, arm7]"
   ]
  },
  {
   "cell_type": "code",
   "execution_count": 2,
   "metadata": {},
   "outputs": [],
   "source": [
    "NUM_ITER = 2000\n",
    "\n",
    "Q = np.zeros(7) #initialize Q with 0\n",
    "count = np.zeros(7) #this array counts how many times we selected each arm\n",
    "countPrev = count.copy() #using this array we can calculate how often each arm was selected in the last 100 steps\n",
    "rewards = np.empty(NUM_ITER) #here we can save the reward we get each iteration\n",
    "selectPercentage = np.empty((7,int(NUM_ITER/100)),'float') #here we can save the percentage of selecting each arm\n",
    "\n",
    "\n",
    "for t in range(NUM_ITER):\n",
    "    eps = np.random.uniform() #rollout a number to compare to epsilon\n",
    "    if eps < 0.1: #this is true with probability epsilon\n",
    "        a = np.random.randint(0,7) #exploratory action\n",
    "    else:\n",
    "        a = np.argmax(Q) #exploitative action\n",
    "    count[a] += 1 #increase the count for that arm\n",
    "    reward = arm[a]() #sample that arm\n",
    "    Q[a] += (reward-Q[a])/count[a] #update the Q value of that arm\n",
    "    \n",
    "    rewards[t] = reward #save the reward for later plotting\n",
    "    \n",
    "    \n",
    "    if t > 0 and (t+1)%100 == 0: #save the arm selection proportions for later plotting\n",
    "        for a in range(7):\n",
    "            selectPercentage[a][int(t/100)] = 0.01*(count[a] - countPrev[a])\n",
    "        countPrev = count.copy()"
   ]
  },
  {
   "cell_type": "markdown",
   "metadata": {},
   "source": [
    "Note that we follow lecture $2$, slide $38$ and update $Q$ according to\n",
    "\n",
    "$Q_{t+1} = Q_{t} + \\frac{1}{t+1}\\cdot(r_{t+1} - Q_t)$.\n",
    "\n",
    "In our case, the target's weight $\\frac{1}{t+1}$ is represented by $\\frac{1}{count[a]}$, which we increment before using it in the update."
   ]
  },
  {
   "cell_type": "code",
   "execution_count": 3,
   "metadata": {},
   "outputs": [
    {
     "data": {
      "image/png": "[encoded data removed]",
      "text/plain": [
       "<Figure size 432x288 with 1 Axes>"
      ]
     },
     "metadata": {
      "needs_background": "light"
     },
     "output_type": "display_data"
    }
   ],
   "source": [
    "plt.plot(np.arange(100,NUM_ITER+1,100), (0.9+0.1/7)*np.ones_like(selectPercentage[0]),'r--', linewidth = 0.5)\n",
    "for a in range(7):\n",
    "    plt.plot(np.arange(100,NUM_ITER+1,100), selectPercentage[a], label = \"arm \" + str(a+1))\n",
    "plt.legend()\n",
    "plt.show()"
   ]
  },
  {
   "cell_type": "markdown",
   "metadata": {},
   "source": [
    "If learning was successful, our agent should select the optimal action with a probability of $1-\\epsilon$. In the remaining exploratory actions, the optimal action can be selected with a probability $\\epsilon \\cdot \\frac{1}{7}$. The sum of this should be the percentage of selecting the optimal action.\n",
    "\n",
    "In the above plot, we plot this expectation as a baseline (dashed red line). After some iterations, We can see that arm $7$ is selected more or less exactly as often as we believed it would. \n",
    "\n",
    "Below, we plot the running reward. Given $r$, the rewards vector from our code, the running reward $r_{running}$ is given by\n",
    "\n",
    "$r_{running}[t] = \\frac{1}{t+1}\\cdot\\sum_{i=0}^{t} r[i]$.\n",
    "\n",
    "It is simply the average over the rewards up until that iteration. I prefer showing this number as it moves more slowly than, for example, the average reward over the last $100$ steps, which is very jittery and harder to interpret."
   ]
  },
  {
   "cell_type": "code",
   "execution_count": 4,
   "metadata": {},
   "outputs": [
    {
     "data": {
      "image/png": "[encoded data removed]",
      "text/plain": [
       "<Figure size 432x288 with 1 Axes>"
      ]
     },
     "metadata": {
      "needs_background": "light"
     },
     "output_type": "display_data"
    }
   ],
   "source": [
    "optReward = 4.73\n",
    "plt.plot(np.arange(100,NUM_ITER+1,100), optReward*np.ones_like(selectPercentage[0]),'r--', linewidth = 0.5)\n",
    "runningAverage = np.divide(np.cumsum(rewards),np.arange(1,NUM_ITER+1))\n",
    "plt.plot(np.arange(1,NUM_ITER+1), runningAverage)\n",
    "plt.show()"
   ]
  },
  {
   "cell_type": "markdown",
   "metadata": {},
   "source": [
    "After learning has converged, our agent should select the most rewarding action $90\\%$ of the time. In these cases, we expect a reward of $5$. The remaining actions are exploratory, and thus yield an expected reward of about $2.29$ as calculated in $\\textbf{2.1)}$. In summary, we therefore predict the running average should converge to $0.9\\cdot5+0.1\\cdot2.29\\approx4.73$. We plot this value as a baseline (in dashed red) and see that our agent stabilizes near it."
   ]
  },
  {
   "cell_type": "code",
   "execution_count": 5,
   "metadata": {},
   "outputs": [
    {
     "name": "stdout",
     "output_type": "stream",
     "text": [
      "Resulting Q: [-0.989  2.933  2.407  1.834  1.618  2.543  5.   ]\n",
      "Arm selection counts: [  30.  137.   31.   28.   36.   32. 1706.]\n"
     ]
    }
   ],
   "source": [
    "print(\"Resulting Q:\", np.round(Q,3))\n",
    "\n",
    "print(\"Arm selection counts:\", count)"
   ]
  },
  {
   "cell_type": "markdown",
   "metadata": {},
   "source": [
    "Note that the individual expectations from $\\textbf{2.1)}$ are not found yet. This is due to the low probability of exploratory actions. While arm $7$ has been greedily sampled very many times, the other arms have only been tested tens of times. Considering this, it is not very surprising that the agent has found the expected return of arm $7$ almost exactly, but is still relatively clueless regarding the other arms. "
   ]
  },
  {
   "cell_type": "markdown",
   "metadata": {},
   "source": [
    "## Task 2.3)\n",
    "Consider a student taking an exam, which consists of $k$ tasks.\n",
    "For simplicity, we assume that the tasks $i = 1, … , k$ can either be solved, which results in the full\n",
    "number $r_i$ of points, or not be solved, resulting in zero points ($r_i = 0$).\n",
    "\n",
    "After working on a task, the student knows whether the task has been solved or not.\n",
    "\n",
    "The student may attempt to solve each task a second time, but only when it has not been solved\n",
    "before.\n",
    "\n",
    "For each attempt, the probability $p_i$ of solving the task shall be independent. It depends only on the difficulty of the task and is as follows:\n",
    "\n",
    "| Task $\\textit{i}$| Points $r_i$ | Solution probability $p_i$|\n",
    "|------------------|--------------|-------------------------------------------|\n",
    "|   1              | 8            |    0.15                                   |\n",
    "|   2              | 6            |    0.4                                    |\n",
    "|   3              | 10           |    0.25                                   |\n",
    "|   4              | 2            |    0.6                                    |\n",
    "|   5              | 7            |    0.35                                   |\n",
    "|   6              | 3            |    0.5                                    |\n",
    "|   7              | 20           |    0.2                                    |\n",
    "\n",
    "### Formulate this problem as a Markov Decision Process! "
   ]
  },
  {
   "cell_type": "markdown",
   "metadata": {},
   "source": [
    "To specify a Markov Decision Process, we need to define a set of states $S$ and a set of actions $A(s)$, with $s\\in S$.\n",
    "\n",
    "$S$: The state space needs to sufficiently encode the history of our system. In this case, it is important not only to save which tasks have been solved (necessary because the student can only work on unsolved task), but also if a task has been attempted before (necessary because we have a maximum number of attempts). Therefore, we can simply define $s = (solved, attempted)$, with\n",
    "\n",
    "$solved := (i_1, i_2, ..., i_7)$, $i_j \\in \\{0,1\\}$, $i_j = 1 \\iff$ task j has been solved\n",
    "\n",
    "$attempted := (k_1, k_2, ..., k_7)$, $k_j \\in \\{0,1,2\\}$, $k_j :=$ number of attempts on task j.\n",
    "\n",
    "Below, we will refer to $i_j$ as $solved_j$ and $k_j$ as $attempted_j$. \n",
    "\n",
    "$A(s)$: Intuitively, the actions are to attempt to work on a task. Of course, this is only possible if the task has not been solved yet and not been attempted too often. Keeping this in mind:\n",
    "\n",
    "$A(s) \\subseteq \\{a_1, a_2, ..., a_7\\}$, with $a_j$ the action of attempting to work on task j and\n",
    "\n",
    "$a_j \\in A(s) \\iff solved_j \\neq 1 \\land attempted_j \\leq 1$.\n",
    "\n",
    "Next, we need to define transition probabilities $P_{ss'}^a$. Note that we define this only for actions and state transitions which are possible. For example, no action can 'unsolve' a task. Furthermore we cannot attempt task previously solved or twice failed. For these combinations of situations and actions, consider $P_{ss'}^a = 0$.\n",
    "\n",
    "For $P_{ss'}^{a_j}$ with $solved_i = solved'_i \\land attempted_i = attempted'_i$ for $i\\neq j$, $attempted'_j = attempted_j + 1$:\n",
    "\n",
    "$P_{ss'}^{a_j} := p_j$ if $solved_j \\neq solved'_j$\n",
    "\n",
    "$P_{ss'}^{a_j} := 1- p_j$ if $solved_j = solved'_j$\n",
    "\n",
    "Finally, we can define the reward probabilities. As before, we demand $solved_i = solved'_i \\land attempted_i = attempted'_i$ for $i\\neq j$, $attempted'_j = attempted_j + 1$ to restrict our attention to plausible transitions. In this case, we get:\n",
    "\n",
    "$R_{ss'}^{a_j} := r_j$ if $solved_j \\neq solved'_j$.\n",
    "\n",
    "In all other combinations of $s$,$s'$ and $a$, $R_{ss'}^{a_j} := 0$"
   ]
  },
  {
   "cell_type": "markdown",
   "metadata": {},
   "source": [
    "## Task 2.4)\n",
    "The student considers two policies for choosing the tasks:\n",
    "\n",
    "$\\pi_A$: work on the tasks in sequential order, according to index $i$.\n",
    "\n",
    "$\\pi_B$: work on the tasks in the order of increasing difficulty (decreasing solution probability).\n",
    "\n",
    "In both cases, the first non-solved task will be attempted again.\n",
    "\n",
    "### Compare the expected return of both policies! "
   ]
  },
  {
   "cell_type": "markdown",
   "metadata": {},
   "source": [
    "This problem is a little easier than the scenario described above. Because only the first task that has been failed is attempted again, we do not need to store the number of attempts in each state on a per task basis. Here, it is sufficient to store if the student has used the second attempt so far. \n",
    "\n",
    "As usual, import required packages and set up the framework for this problem."
   ]
  },
  {
   "cell_type": "code",
   "execution_count": 6,
   "metadata": {},
   "outputs": [],
   "source": [
    "rewards = np.array([8,6,10,2,7,3,20]) #r_i\n",
    "success_probabilities = np.array([0.15,0.4,0.25,0.6,0.35,0.5,0.2]) #p_i\n",
    "attempt = 0 #see above text\n",
    "completed_tasks = np.zeros_like(rewards) #solved component of state as in 2.3)\n",
    "passing_score = np.sum(rewards)*0.5 #needed to determine the probability of passing, not required here"
   ]
  },
  {
   "cell_type": "markdown",
   "metadata": {},
   "source": [
    "If we specify a policy, that is, a rule $\\pi(s,a)$ that maps each state $s$ to a distribution over available actions $a \\in A(s)$, we can calculate the expected return following that policy and the probability of passing the exam by examining all possible trajectories following that policy.\n",
    "\n",
    "To simplify this problem, we could assume that our given $\\pi$ is a deterministic policy. Then, each state has at most $2$ outcomes; one for failing the selected task and one for successfully solving it. This is readily represented by a binary tree, each edge weighted by the success probability (or its complement) of the task corresponding to the action selected by $\\pi$. \n",
    "\n",
    "Each leaf of this tree is reached with a probability determined by the products of the edges leading there. We could then identifiy each leaf (which represents a terminal state) that has enough tasks solved to achieve a passing score, and sum up over the probabilities of these leaves being reached. This probability is then equal to the probability of passing the exam. Furthermore, we can read off the total score at each leaf. This can also be weighted by the probability of reaching the leaf. A weighted sum over all leaves in this manner yields the expected return."
   ]
  },
  {
   "cell_type": "markdown",
   "metadata": {},
   "source": [
    "As described above we build a binary search tree for the deterministic policies described in this task. We represent the policy as a queue of tasks to be sequentially attempted. When a task is solved or has been failed when the second attempt is no longer available, it is popped from the front of the queue. Then, the next tasks are attempted until the queue is empty. We are only interested in the leaves of the search tree and can assign a probability of 1 to leaves that represent states with enough points to pass the exam. This probability (technically not part of the task) is propagated up to the root of the tree along with the total number of points at the leaf. \n",
    "\n",
    "This is most intuitively implemented using a recursion that stops when terminal states are reached."
   ]
  },
  {
   "cell_type": "code",
   "execution_count": 7,
   "metadata": {},
   "outputs": [],
   "source": [
    "def priority_agent_expected_reward(r, p, attempted, solved, pi):\n",
    "    expected_sum = np.array([0.0, 0.0])\n",
    "    #Are we in a terminal state?\n",
    "    if(len(pi) == 0):\n",
    "        #Value of the whole trajectory.\n",
    "        trajectory_reward = np.sum(r[solved > 0]) #sum up over the points for completed tasks\n",
    "        passing_probability = 0.0\n",
    "        #Is the value of this trajectory sufficient to pass the exam?\n",
    "        if trajectory_reward >= passing_score:\n",
    "            passing_probability = 1.0\n",
    "        return np.array([trajectory_reward, passing_probability]) #send this tuple upwards towards the root\n",
    "    #If the state is not terminal:\n",
    "    else:\n",
    "        task = pi[0] #Determine the task that we must now work on.\n",
    "        solved_success = solved.copy() \n",
    "        solved_success[task] += 1 #This would be s' if we succeed in solving the task\n",
    "        if(attempted != 0):\n",
    "            #No second attempt is left, we must pop the task from the queue no matter if we fail or not\n",
    "            success_score = priority_agent_expected_reward(r, p, attempted, solved_success, np.delete(pi, [0]))\n",
    "            failure_score = priority_agent_expected_reward(r, p, attempted, solved, np.delete(pi, [0]))\n",
    "            expected_sum += p[task] * success_score + (1 - p[task]) * failure_score\n",
    "        else:\n",
    "            #If the student fails here, the task can be attempted again\n",
    "            success_score = priority_agent_expected_reward(r, p, attempted, solved_success, np.delete(pi, [0]))\n",
    "            failure_score = priority_agent_expected_reward(r, p, attempted + 1, solved, pi)\n",
    "            expected_sum += p[task] * success_score + (1 - p[task]) * failure_score\n",
    "        \n",
    "        #For each non-terminal state, two states can result from taking the action; \n",
    "        #one if we succeed, one if we fail.\n",
    "        #For this reason, the expected sum decomposes into a success_score and a failure_score each turn\n",
    "        return expected_sum"
   ]
  },
  {
   "cell_type": "markdown",
   "metadata": {},
   "source": [
    "Because our $r_i$ and $p_i$ are zero-indexed while we represent $\\pi$ by a list of task numbers, we define a little helper function to transform the task numbers."
   ]
  },
  {
   "cell_type": "code",
   "execution_count": 8,
   "metadata": {},
   "outputs": [],
   "source": [
    "def policify(numpy_array):\n",
    "    return numpy_array - 1"
   ]
  },
  {
   "cell_type": "markdown",
   "metadata": {},
   "source": [
    "Now we can call this function on $\\pi_A$ and $\\pi_B$."
   ]
  },
  {
   "cell_type": "code",
   "execution_count": 9,
   "metadata": {},
   "outputs": [
    {
     "name": "stdout",
     "output_type": "stream",
     "text": [
      "The expected [return, success] of the policy [1 2 3 4 5 6 7] is [16.627435  0.180866]\n",
      "The expected [return, success] of the policy [4 6 2 5 3 7 1] is [16.917592  0.194384]\n"
     ]
    }
   ],
   "source": [
    "policy_a = np.array([1, 2, 3, 4, 5, 6, 7])\n",
    "policy_b = np.array([4, 6, 2, 5, 3, 7, 1])\n",
    "print('The expected [return, success] of the policy', policy_a,'is',\n",
    "      priority_agent_expected_reward(rewards, success_probabilities, attempted=0, solved=completed_tasks, pi=policify(policy_a)))\n",
    "print('The expected [return, success] of the policy', policy_b,'is',\n",
    "      priority_agent_expected_reward(rewards, success_probabilities, attempted=0, solved=completed_tasks, pi=policify(policy_b)))"
   ]
  },
  {
   "cell_type": "markdown",
   "metadata": {},
   "source": [
    "Evidently, $\\pi_B$ has a slightly higher expected return than $\\pi_A$. The probability of passing the exam is slightly higher when following $\\pi_B$."
   ]
  },
  {
   "cell_type": "code",
   "execution_count": 10,
   "metadata": {},
   "outputs": [
    {
     "name": "stdout",
     "output_type": "stream",
     "text": [
      "[1.2  2.4  2.5  1.2  2.45 1.5  4.  ]\n"
     ]
    }
   ],
   "source": [
    "expected_rewards = np.multiply(rewards,success_probabilities)\n",
    "print(expected_rewards)"
   ]
  },
  {
   "cell_type": "markdown",
   "metadata": {},
   "source": [
    "Set $\\pi_C$ to the priority list of tasks ordered by decreasing expected reward. Then, calculate its return as in $\\textbf{2.3)}$. "
   ]
  },
  {
   "cell_type": "code",
   "execution_count": 11,
   "metadata": {},
   "outputs": [
    {
     "name": "stdout",
     "output_type": "stream",
     "text": [
      "The expected [return, success] of the policy [7 3 5 2 6 1 4] is [18.938897   0.2778135]\n"
     ]
    }
   ],
   "source": [
    "policy_c = np.array([7, 3, 5, 2, 6, 1, 4])\n",
    "print('The expected [return, success] of the policy', policy_c,'is', \n",
    "      priority_agent_expected_reward(rewards, success_probabilities, attempted=0, solved=completed_tasks, pi=policify(policy_c)))"
   ]
  },
  {
   "cell_type": "markdown",
   "metadata": {},
   "source": [
    "Note that the passing probability of the exam was not a part of the tasks, I just included it here because it highlights that our agent could potentially have different, but reasonable, objectives. We can also imagine a case where both of these objectives are not necessarily aligned. "
   ]
  },
  {
   "cell_type": "markdown",
   "metadata": {},
   "source": [
    "## Task 2.5)\n",
    "Give an example for a process model where the Markov assumption is not justified.\n",
    "\n",
    "How can the state be augmented to make the assumption valid again?\n",
    "\n",
    "Assume we are tracking $s_t = x_t\\in {\\rm I\\!R}$, the postion of a cart along a straight rail. If we want to predict the next position $s_{t+\\epsilon}$, we could calculate it as $x_{t} + \\epsilon \\cdot \\dot{x_t}$, but we do not know the velocity $\\dot{x_t}$. It could be estimated using the difference of $x_{t}$ and $x_{t-\\epsilon}$, but the latter is not stored in the state. In that sense, this process model is clearly not memory-less, we need part of its history before time $t$ to predict the distribution of future states.\n",
    "\n",
    "To fulfill the requirement of the Markov assumption again, we would need to augment the state to $s_t = (x_t, \\dot{x_t})$. Then, the information contained in the state is sufficient to predict the next state (for simplicity assuming constant acceleration of $0$)."
   ]
  },
  {
   "cell_type": "code",
   "execution_count": null,
   "metadata": {},
   "outputs": [],
   "source": []
  }
 ],
 "metadata": {
  "kernelspec": {
   "display_name": "Python 3",
   "language": "python",
   "name": "python3"
  },
  "language_info": {
   "codemirror_mode": {
    "name": "ipython",
    "version": 3
   },
   "file_extension": ".py",
   "mimetype": "text/x-python",
   "name": "python",
   "nbconvert_exporter": "python",
   "pygments_lexer": "ipython3",
   "version": "3.6.9"
  }
 },
 "nbformat": 4,
 "nbformat_minor": 4
}

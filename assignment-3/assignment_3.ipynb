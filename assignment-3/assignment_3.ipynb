{
 "cells": [
  {
   "cell_type": "code",
   "execution_count": 53,
   "metadata": {},
   "outputs": [],
   "source": [
    "import numpy as np\n",
    "np.set_printoptions(suppress=True)\n",
    "solution_task1 = np.load('data/stateValuesTask1.npy')\n",
    "grid_world = np.load('data/gridworld.npy')"
   ]
  },
  {
   "cell_type": "markdown",
   "metadata": {},
   "source": [
    "## Exercise 3.1"
   ]
  },
  {
   "cell_type": "code",
   "execution_count": 54,
   "metadata": {},
   "outputs": [],
   "source": [
    "GOAL_S = {'x':8,'y':3}\n",
    "\n",
    "def is_outside(state):\n",
    "    return ((state['y'] < 0 or state['y'] >= grid_world.shape[0]) \n",
    "              or (state['x'] < 0 or state['x'] >= grid_world.shape[1]))\n",
    "\n",
    "def terminal_state(state, goal_inc=True):\n",
    "    # Entered a goal state\n",
    "    if goal_inc and state == GOAL_S:\n",
    "        return True\n",
    "    # Exeeded boundary limits\n",
    "    elif is_outside(state):\n",
    "        return True\n",
    "    # Entered a cell X\n",
    "    elif grid_world[state['y'], state['x']] == -20:\n",
    "        return True\n",
    "\n",
    "    # Not a terminal state\n",
    "    else:\n",
    "        return False\n",
    "\n",
    "def get_reward(state):\n",
    "    if is_outside(state):\n",
    "        return -30;\n",
    "    else:\n",
    "        return grid_world[state['y'], state['x']]\n",
    "\n",
    "def make_move(state, action):\n",
    "    state_c = state.copy()\n",
    "    \n",
    "    if action == 'l':\n",
    "        state_c['x']  -= 1\n",
    "    elif action == 'r':\n",
    "        state_c['x']  += 1\n",
    "    elif action == 'u':\n",
    "        state_c['y']  -= 1\n",
    "    elif action == 'd':\n",
    "        state_c['y']  += 1\n",
    "        \n",
    "    if not terminal_state(state_c, goal_inc=False):\n",
    "        state['x'] = state_c['x']\n",
    "        state['y'] = state_c['y']\n",
    "        \n",
    "    return get_reward(state_c)\n"
   ]
  },
  {
   "cell_type": "code",
   "execution_count": 55,
   "metadata": {},
   "outputs": [],
   "source": [
    "THRESHOLD = 0.007\n",
    "\n",
    "def compute_V(disc=0.9):\n",
    "    # Value function matrix\n",
    "    V = np.zeros_like(grid_world)\n",
    "    # Delta value\n",
    "    delta = np.inf\n",
    "    \n",
    "    while delta > THRESHOLD:\n",
    "        # Reset delta\n",
    "        delta  = 0\n",
    "\n",
    "        # Copy of V\n",
    "        V_copy = V.copy()\n",
    "        \n",
    "        # States loop\n",
    "        for y in range(grid_world.shape[0]):\n",
    "            for x in range(grid_world.shape[1]):\n",
    "                # Current state\n",
    "                state = {'x':x,'y':y}\n",
    "                \n",
    "                if terminal_state(state):\n",
    "                    continue\n",
    "                                \n",
    "                # Temporary value for the state\n",
    "                V_prev = V[y,x]\n",
    "                \n",
    "                # Compute new value\n",
    "                V[y,x] = 0\n",
    "                for action, probability in [('r', 0.625), ('l', 0.125), ('u', 0.125), ('d', 0.125)]:\n",
    "                    state_a = state.copy()\n",
    "                    reward = make_move(state_a, action)\n",
    "                    V[y,x] += probability * (reward + disc * V_copy[state_a['y'], state_a['x']])\n",
    "                \n",
    "                # Compute new delta\n",
    "                delta = max(delta, np.abs(V_prev - V[y,x]))\n",
    "    return V"
   ]
  },
  {
   "cell_type": "code",
   "execution_count": 64,
   "metadata": {},
   "outputs": [
    {
     "ename": "SyntaxError",
     "evalue": "invalid syntax (<ipython-input-64-759a02580099>, line 5)",
     "output_type": "error",
     "traceback": [
      "\u001b[0;36m  File \u001b[0;32m\"<ipython-input-64-759a02580099>\"\u001b[0;36m, line \u001b[0;32m5\u001b[0m\n\u001b[0;31m    print(\"Accumulative difference from the solution results: {}\\n\" result_task1)\u001b[0m\n\u001b[0m                                                                               ^\u001b[0m\n\u001b[0;31mSyntaxError\u001b[0m\u001b[0;31m:\u001b[0m invalid syntax\n"
     ]
    }
   ],
   "source": [
    "result_task1 = compute_V()\n",
    "diff = sum(abs(solution_task1 - result_task1).flatten())\n",
    "\n",
    "\n",
    "print(\"Accumulative difference from the solution results: {}\\n\".format(diff, result_task1)"
   ]
  },
  {
   "cell_type": "code",
   "execution_count": null,
   "metadata": {},
   "outputs": [],
   "source": []
  }
 ],
 "metadata": {
  "kernelspec": {
   "display_name": "Python 3",
   "language": "python",
   "name": "python3"
  },
  "language_info": {
   "codemirror_mode": {
    "name": "ipython",
    "version": 3
   },
   "file_extension": ".py",
   "mimetype": "text/x-python",
   "name": "python",
   "nbconvert_exporter": "python",
   "pygments_lexer": "ipython3",
   "version": "3.6.9"
  }
 },
 "nbformat": 4,
 "nbformat_minor": 4
}

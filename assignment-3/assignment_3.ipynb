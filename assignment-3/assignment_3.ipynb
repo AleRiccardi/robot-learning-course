{
 "cells": [
  {
   "cell_type": "code",
   "execution_count": 3,
   "metadata": {},
   "outputs": [],
   "source": [
    "import numpy as np\n",
    "np.set_printoptions(suppress=True)\n",
    "results_task1 = np.load('data/stateValuesTask1.npy')\n",
    "grid_world = np.load('data/gridworld.npy')"
   ]
  },
  {
   "cell_type": "code",
   "execution_count": 4,
   "metadata": {},
   "outputs": [
    {
     "data": {
      "text/plain": [
       "array([[ 10.,  10.,  10.,  -1.,  -1.,  -1.,  -1.,  10.,  10.],\n",
       "       [ -1.,  -1.,  -1.,  -1.,  -1., -20.,  -1., -20.,  10.],\n",
       "       [ -1., -20., -20., -20., -20., -20.,  -1., -20.,  -1.],\n",
       "       [ -1., -20.,  10.,  10.,  10.,  10., -20.,  -1., 100.],\n",
       "       [ -1.,  -1.,  10., -20., -20., -20.,  -1.,  -1.,  -1.],\n",
       "       [ -1.,  -1.,  -1.,  -1.,  -1.,  -1.,  -1., -20.,  -1.],\n",
       "       [ -1., -20., -20., -20., -20., -20., -20.,  -1.,  -1.],\n",
       "       [ -1.,  10.,  10.,  10.,  10.,  10.,  10.,  -1., -20.],\n",
       "       [ -1.,  10.,  10.,  10., -20.,  10.,  10.,  -1., -20.]])"
      ]
     },
     "execution_count": 4,
     "metadata": {},
     "output_type": "execute_result"
    }
   ],
   "source": [
    "grid_world"
   ]
  },
  {
   "cell_type": "code",
   "execution_count": 5,
   "metadata": {},
   "outputs": [
    {
     "data": {
      "text/plain": [
       "array([[ -55.72285158,  -60.28813092,  -76.21943677,  -85.94239006,\n",
       "         -95.17214143, -102.06460192, -109.14849891, -128.03672486,\n",
       "        -154.35820755],\n",
       "       [ -70.24180495,  -71.03860383,  -82.4266548 ,  -97.04877034,\n",
       "        -113.45253199,    0.        , -138.83622028,    0.        ,\n",
       "        -140.1279616 ],\n",
       "       [-114.35635123,    0.        ,    0.        ,    0.        ,\n",
       "           0.        ,    0.        , -156.41838188,    0.        ,\n",
       "         -71.58053207],\n",
       "       [-113.49056343,    0.        ,  -67.69447722,  -82.24055051,\n",
       "        -104.22849427, -131.61383646,    0.        ,   67.97543479,\n",
       "           0.        ],\n",
       "       [ -66.87372941,  -61.70095357,  -77.43127146,    0.        ,\n",
       "           0.        ,    0.        ,  -51.56857317,  -41.72612892,\n",
       "         -63.11723718],\n",
       "       [ -64.4840581 ,  -63.86563014,  -69.53147116,  -77.8922909 ,\n",
       "         -83.19180027,  -88.82103118,  -95.51685587,    0.        ,\n",
       "        -145.95964503],\n",
       "       [ -81.41499169,    0.        ,    0.        ,    0.        ,\n",
       "           0.        ,    0.        ,    0.        , -146.68306869,\n",
       "        -167.4479631 ],\n",
       "       [ -24.07747643,  -19.83472912,  -28.50505501,  -42.3162275 ,\n",
       "         -57.39664499,  -75.06625414, -100.9614636 , -122.15419146,\n",
       "           0.        ],\n",
       "       [ -29.38658069,  -33.23429959,  -49.04161122,  -73.92283119,\n",
       "           0.        ,  -85.56598202, -105.10495463, -125.19771008,\n",
       "           0.        ]])"
      ]
     },
     "execution_count": 5,
     "metadata": {},
     "output_type": "execute_result"
    }
   ],
   "source": [
    "results_task1"
   ]
  },
  {
   "cell_type": "code",
   "execution_count": 17,
   "metadata": {},
   "outputs": [],
   "source": [
    "goal = {'x':8,'y':3}\n",
    "THRESHOLD = 10\n",
    "\n",
    "finished = False\n",
    "\n",
    "def is_outside(state):\n",
    "    return ((state['y'] < 0 or state['y'] >= grid_world.shape[0]) \n",
    "              or (state['x'] < 0 or state['x'] >= grid_world.shape[1]))\n",
    "\n",
    "def terminal_state(state, goal_inc=True):\n",
    "    # Entered a goal state\n",
    "    if goal_inc and state == goal:\n",
    "        return True\n",
    "    # Exeeded boundary limits\n",
    "    elif is_outside(state):\n",
    "        return True\n",
    "    # Entered a cell X\n",
    "    elif grid_world[state['y'], state['x']] == -20:\n",
    "        return True\n",
    "\n",
    "    # Not a terminal state\n",
    "    else:\n",
    "        return False\n",
    "\n",
    "def get_reward(state):\n",
    "    if is_outside(state):\n",
    "        return -30;\n",
    "    else:\n",
    "        return grid_world[state['y'], state['x']]\n",
    "\n",
    "def make_move(state, action):\n",
    "    state_c = state.copy()\n",
    "    \n",
    "    if action == 'l':\n",
    "        state_c['x']  -= 1\n",
    "    elif action == 'r':\n",
    "        state_c['x']  += 1\n",
    "    elif action == 'u':\n",
    "        state_c['y']  -= 1\n",
    "    elif action == 'd':\n",
    "        state_c['y']  += 1\n",
    "        \n",
    "    if not terminal_state(state_c, goal_inc=False):\n",
    "        state['x'] = state_c['x']\n",
    "        state['y'] = state_c['y']\n",
    "        \n",
    "    return get_reward(state_c)\n",
    "\n",
    "def compute_V(disc=0.9):\n",
    "    # Value function matrix\n",
    "    V = np.zeros_like(grid_world)\n",
    "    \n",
    "    # Delta value\n",
    "    delta  = 0\n",
    "    \n",
    "    # Counter\n",
    "    counter = 0\n",
    "    \n",
    "    # Threshold loop\n",
    "    # while delta < THRESHOLD:\n",
    "    for _ in range(65):\n",
    "        # Reset delta\n",
    "        delta  = 0\n",
    "        \n",
    "        # Copy of V\n",
    "        V_copy = V.copy()\n",
    "        \n",
    "        # States loop\n",
    "        for y in range(grid_world.shape[0]):\n",
    "            for x in range(grid_world.shape[1]):\n",
    "                # Current state\n",
    "                state = {'x':x,'y':y}\n",
    "                \n",
    "                if terminal_state(state):\n",
    "                    continue\n",
    "                    \n",
    "                counter += 1\n",
    "                \n",
    "                # Temporary value for the state\n",
    "                V_prev = V[y,x]\n",
    "                \n",
    "                # Compute new value\n",
    "                V[y,x] = 0\n",
    "                for action, probability in [('r', 0.625), ('l', 0.125), ('u', 0.125), ('d', 0.125)]:\n",
    "                    state_a = state.copy()\n",
    "                    reward = make_move(state_a, action)\n",
    "                    V[y,x] += probability * (reward + disc * V_copy[state_a['y'], state_a['x']])\n",
    "                    #print(\"Action: \", state_a, reward, V_copy[state_a['y'], state_a['x']])\n",
    "                \n",
    "                # Compute new delta\n",
    "                delta = max(delta, np.abs(V_prev - V[y,x]))\n",
    "                #print(\"Delta: \", delta)\n",
    "        \n",
    "    return V"
   ]
  },
  {
   "cell_type": "code",
   "execution_count": 18,
   "metadata": {},
   "outputs": [
    {
     "data": {
      "text/plain": [
       "array([[ -55.67976943,  -60.24617709,  -76.17979713,  -85.90545978,\n",
       "         -95.13827119, -102.03428114, -109.11976749, -128.01052852,\n",
       "        -154.3333661 ],\n",
       "       [ -70.19455692,  -70.99195666,  -82.38122703,  -97.00438911,\n",
       "        -113.40877287,    0.        , -138.80056683,    0.        ,\n",
       "        -140.10823911],\n",
       "       [-114.30791483,    0.        ,    0.        ,    0.        ,\n",
       "           0.        ,    0.        , -156.37865377,    0.        ,\n",
       "         -71.56941608],\n",
       "       [-113.44516726,    0.        ,  -67.64485026,  -82.18743414,\n",
       "        -104.1746153 , -131.5598189 ,    0.        ,   67.97705037,\n",
       "           0.        ],\n",
       "       [ -66.83495873,  -61.66282786,  -77.39141204,    0.        ,\n",
       "           0.        ,    0.        ,  -51.55818152,  -41.71646341,\n",
       "         -63.10637144],\n",
       "       [ -64.451279  ,  -63.83843634,  -69.50892619,  -77.87552959,\n",
       "         -83.17671707,  -88.80671264,  -95.50308696,    0.        ,\n",
       "        -145.93781157],\n",
       "       [ -81.36381986,    0.        ,    0.        ,    0.        ,\n",
       "           0.        ,    0.        ,    0.        , -146.64774464,\n",
       "        -167.41666565],\n",
       "       [ -24.01001462,  -19.76604613,  -28.43813118,  -42.25194556,\n",
       "         -57.33564512,  -75.00694285, -100.90440183, -122.09989268,\n",
       "           0.        ],\n",
       "       [ -29.31289165,  -33.16024688,  -48.96811394,  -73.84981028,\n",
       "           0.        ,  -85.50227883, -105.0414321 , -125.13464022,\n",
       "           0.        ]])"
      ]
     },
     "execution_count": 18,
     "metadata": {},
     "output_type": "execute_result"
    }
   ],
   "source": [
    "compute_V()"
   ]
  },
  {
   "cell_type": "code",
   "execution_count": 12,
   "metadata": {},
   "outputs": [
    {
     "data": {
      "text/plain": [
       "array([[ -55.72285158,  -60.28813092,  -76.21943677,  -85.94239006,\n",
       "         -95.17214143, -102.06460192, -109.14849891, -128.03672486,\n",
       "        -154.35820755],\n",
       "       [ -70.24180495,  -71.03860383,  -82.4266548 ,  -97.04877034,\n",
       "        -113.45253199,    0.        , -138.83622028,    0.        ,\n",
       "        -140.1279616 ],\n",
       "       [-114.35635123,    0.        ,    0.        ,    0.        ,\n",
       "           0.        ,    0.        , -156.41838188,    0.        ,\n",
       "         -71.58053207],\n",
       "       [-113.49056343,    0.        ,  -67.69447722,  -82.24055051,\n",
       "        -104.22849427, -131.61383646,    0.        ,   67.97543479,\n",
       "           0.        ],\n",
       "       [ -66.87372941,  -61.70095357,  -77.43127146,    0.        ,\n",
       "           0.        ,    0.        ,  -51.56857317,  -41.72612892,\n",
       "         -63.11723718],\n",
       "       [ -64.4840581 ,  -63.86563014,  -69.53147116,  -77.8922909 ,\n",
       "         -83.19180027,  -88.82103118,  -95.51685587,    0.        ,\n",
       "        -145.95964503],\n",
       "       [ -81.41499169,    0.        ,    0.        ,    0.        ,\n",
       "           0.        ,    0.        ,    0.        , -146.68306869,\n",
       "        -167.4479631 ],\n",
       "       [ -24.07747643,  -19.83472912,  -28.50505501,  -42.3162275 ,\n",
       "         -57.39664499,  -75.06625414, -100.9614636 , -122.15419146,\n",
       "           0.        ],\n",
       "       [ -29.38658069,  -33.23429959,  -49.04161122,  -73.92283119,\n",
       "           0.        ,  -85.56598202, -105.10495463, -125.19771008,\n",
       "           0.        ]])"
      ]
     },
     "execution_count": 12,
     "metadata": {},
     "output_type": "execute_result"
    }
   ],
   "source": [
    "results_task1"
   ]
  },
  {
   "cell_type": "code",
   "execution_count": null,
   "metadata": {},
   "outputs": [],
   "source": []
  }
 ],
 "metadata": {
  "kernelspec": {
   "display_name": "Python 3",
   "language": "python",
   "name": "python3"
  },
  "language_info": {
   "codemirror_mode": {
    "name": "ipython",
    "version": 3
   },
   "file_extension": ".py",
   "mimetype": "text/x-python",
   "name": "python",
   "nbconvert_exporter": "python",
   "pygments_lexer": "ipython3",
   "version": "3.6.9"
  }
 },
 "nbformat": 4,
 "nbformat_minor": 4
}

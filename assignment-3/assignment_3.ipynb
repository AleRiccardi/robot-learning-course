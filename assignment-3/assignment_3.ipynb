{
 "cells": [
  {
   "cell_type": "code",
   "execution_count": 3,
   "metadata": {},
   "outputs": [],
   "source": [
    "import numpy as np\n",
    "results_task1 = np.load('data/stateValuesTask1.npy')\n",
    "grid_world = np.load('data/gridworld.npy')"
   ]
  },
  {
   "cell_type": "code",
   "execution_count": 18,
   "metadata": {},
   "outputs": [],
   "source": [
    "goal = {'x':8,'y':3}\n",
    "\n",
    "finished = False\n",
    "\n",
    "def is_outside(state):\n",
    "    return ((state['y'] < 0 or state['y'] >= grid_world.shape[0]) \n",
    "              or (state['x'] < 0 or state['x'] >= grid_world.shape[1]))\n",
    "\n",
    "def terminal_state(state):\n",
    "    # Entered a goal state\n",
    "    if state == goal:\n",
    "        return True\n",
    "    # Exeeded boundary limits\n",
    "    elif is_outside(state):\n",
    "        return True\n",
    "    # Entered a cell X\n",
    "    elif grid_world[state['y'], state['x']] == -20:\n",
    "        return True\n",
    "\n",
    "    # Not a terminal state\n",
    "    else:\n",
    "        return False\n",
    "\n",
    "def get_reward(state):\n",
    "    if is_outside(state):\n",
    "        return -30;\n",
    "    else:\n",
    "        return grid_world[state['y'], state['x']]\n",
    "\n",
    "def make_move(state, action):\n",
    "    state_c = state.copy()\n",
    "    \n",
    "    if action == 'l':\n",
    "        state_c['x']  -= 1\n",
    "    elif action == 'r':\n",
    "        state_c['x']  += 1\n",
    "    elif action == 'u':\n",
    "        state_c['y']  -= 1\n",
    "    elif action == 'd':\n",
    "        state_c['y']  += 1\n",
    "        \n",
    "    if not terminal_state(state_c):\n",
    "        state['x'] = state_c['x']\n",
    "        state['y'] = state_c['y']\n",
    "    \n",
    "    return get_reward(state_c)\n",
    "\n",
    "    \n",
    "def compute_V(state, count, disc=0.9):\n",
    "    if count == 7 or terminal_state(state):\n",
    "        return 0\n",
    "    \n",
    "    return_V = 0\n",
    "    count += 1\n",
    "\n",
    "    # Right + random action\n",
    "    state_r = state.copy()\n",
    "    reward = make_move(state_r, 'r')\n",
    "    return_V += (0.5 + 0.125) * (reward + disc**count * compute_V(state_r, count))\n",
    "    \n",
    "    # Random left action\n",
    "    state_l = state.copy()\n",
    "    reward = make_move(state_l, 'l')\n",
    "    return_V += 0.125 * (reward + disc**count * compute_V(state_l, count))\n",
    "    \n",
    "    # Random up action\n",
    "    state_u = state.copy()\n",
    "    reward = make_move(state_u, 'u')\n",
    "    return_V += 0.125 * (reward + disc**count * compute_V(state_u, count))\n",
    "            \n",
    "    # Random down action\n",
    "    state_d = state.copy()\n",
    "    reward = make_move(state_d, 'd')\n",
    "    return_V += 0.125 * (reward + disc * compute_V(state_d, count))\n",
    "        \n",
    "    return return_V"
   ]
  },
  {
   "cell_type": "code",
   "execution_count": 19,
   "metadata": {},
   "outputs": [
    {
     "data": {
      "text/plain": [
       "-69.79503857435238"
      ]
     },
     "execution_count": 19,
     "metadata": {},
     "output_type": "execute_result"
    }
   ],
   "source": [
    "state = {'x':8,'y':0}\n",
    "compute_V(state, 0)"
   ]
  },
  {
   "cell_type": "code",
   "execution_count": 20,
   "metadata": {},
   "outputs": [
    {
     "data": {
      "text/plain": [
       "array([[ -4.95007053,  -4.9960163 , -15.53327745, -19.75023521,\n",
       "        -22.82488322, -22.50716902, -24.68767579, -42.24101637,\n",
       "        -69.79503857],\n",
       "       [-16.05516738, -13.8662417 , -21.23297624, -33.13148269,\n",
       "        -48.15431559,   0.        , -54.0605142 ,   0.        ,\n",
       "        -69.6675506 ],\n",
       "       [-54.75734238,   0.        ,   0.        ,   0.        ,\n",
       "          0.        ,   0.        , -66.73135202,   0.        ,\n",
       "        -38.21512085],\n",
       "       [-54.69750495,   0.        ,  -3.69401589, -10.94561142,\n",
       "        -29.29937555, -55.52332406,   0.        , 174.63100811,\n",
       "          0.        ],\n",
       "       [-19.39244478, -14.66096936, -28.2945074 ,   0.        ,\n",
       "          0.        ,   0.        , -15.35517201,  -3.43214664,\n",
       "        -31.88796458],\n",
       "       [-19.54246716, -16.27566294, -19.51451421, -26.16222685,\n",
       "        -31.62396444, -39.22460656, -48.59047159,   0.        ,\n",
       "        -74.44580755],\n",
       "       [-43.17837835,   0.        ,   0.        ,   0.        ,\n",
       "          0.        ,   0.        ,   0.        , -56.49720258,\n",
       "        -77.56860104],\n",
       "       [  5.97463982,  14.07292858,  12.88654142,   8.31023485,\n",
       "          4.09354298,  -5.39789983, -26.2176009 , -44.03932817,\n",
       "          0.        ],\n",
       "       [  1.1038604 ,   1.06960872, -11.33905082, -34.244948  ,\n",
       "          0.        , -15.18150598, -32.36467275, -51.26120348,\n",
       "          0.        ]])"
      ]
     },
     "execution_count": 20,
     "metadata": {},
     "output_type": "execute_result"
    }
   ],
   "source": [
    "np.set_printoptions(suppress=True)\n",
    "grid_task1 = np.zeros_like(grid_world)\n",
    "\n",
    "for y in range(grid_world.shape[0]):\n",
    "    for x in range(grid_world.shape[1]):\n",
    "        grid_task1[y,x] = compute_V({'y': y, 'x': x}, 0)\n",
    "    \n",
    "grid_task1"
   ]
  },
  {
   "cell_type": "code",
   "execution_count": 17,
   "metadata": {},
   "outputs": [
    {
     "data": {
      "text/plain": [
       "array([[ -55.72285158,  -60.28813092,  -76.21943677,  -85.94239006,\n",
       "         -95.17214143, -102.06460192, -109.14849891, -128.03672486,\n",
       "        -154.35820755],\n",
       "       [ -70.24180495,  -71.03860383,  -82.4266548 ,  -97.04877034,\n",
       "        -113.45253199,    0.        , -138.83622028,    0.        ,\n",
       "        -140.1279616 ],\n",
       "       [-114.35635123,    0.        ,    0.        ,    0.        ,\n",
       "           0.        ,    0.        , -156.41838188,    0.        ,\n",
       "         -71.58053207],\n",
       "       [-113.49056343,    0.        ,  -67.69447722,  -82.24055051,\n",
       "        -104.22849427, -131.61383646,    0.        ,   67.97543479,\n",
       "           0.        ],\n",
       "       [ -66.87372941,  -61.70095357,  -77.43127146,    0.        ,\n",
       "           0.        ,    0.        ,  -51.56857317,  -41.72612892,\n",
       "         -63.11723718],\n",
       "       [ -64.4840581 ,  -63.86563014,  -69.53147116,  -77.8922909 ,\n",
       "         -83.19180027,  -88.82103118,  -95.51685587,    0.        ,\n",
       "        -145.95964503],\n",
       "       [ -81.41499169,    0.        ,    0.        ,    0.        ,\n",
       "           0.        ,    0.        ,    0.        , -146.68306869,\n",
       "        -167.4479631 ],\n",
       "       [ -24.07747643,  -19.83472912,  -28.50505501,  -42.3162275 ,\n",
       "         -57.39664499,  -75.06625414, -100.9614636 , -122.15419146,\n",
       "           0.        ],\n",
       "       [ -29.38658069,  -33.23429959,  -49.04161122,  -73.92283119,\n",
       "           0.        ,  -85.56598202, -105.10495463, -125.19771008,\n",
       "           0.        ]])"
      ]
     },
     "execution_count": 17,
     "metadata": {},
     "output_type": "execute_result"
    }
   ],
   "source": [
    "results_task1"
   ]
  }
 ],
 "metadata": {
  "kernelspec": {
   "display_name": "Python 3",
   "language": "python",
   "name": "python3"
  },
  "language_info": {
   "codemirror_mode": {
    "name": "ipython",
    "version": 3
   },
   "file_extension": ".py",
   "mimetype": "text/x-python",
   "name": "python",
   "nbconvert_exporter": "python",
   "pygments_lexer": "ipython3",
   "version": "3.6.9"
  }
 },
 "nbformat": 4,
 "nbformat_minor": 4
}

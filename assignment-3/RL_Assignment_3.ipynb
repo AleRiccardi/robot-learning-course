{
 "cells": [
  {
   "cell_type": "markdown",
   "metadata": {},
   "source": [
    "# Assignment Sheet 3\n",
    "## Solution examples"
   ]
  },
  {
   "cell_type": "markdown",
   "metadata": {},
   "source": [
    "## Task 3.1) \n",
    "Consider the following grid world:"
   ]
  },
  {
   "cell_type": "markdown",
   "metadata": {},
   "source": [
    "![title](gridWorld.png)"
   ]
  },
  {
   "cell_type": "markdown",
   "metadata": {},
   "source": [
    "The agent may start in any cell.\n",
    "\n",
    "It can choose between four actions: moving one cell up, moving one cell down, moving one cell\n",
    "left, and moving one cell right.\n",
    "\n",
    "When it reaches cell $G$, it will receive $100$ points and the episode ends.\n",
    "\n",
    "When it reaches a cell marked $*$, it will receive $10$ points and the episode continues.\n",
    "\n",
    "When it attempts to enter a cell marked $X$, it will receive $-20$ points and stay in the cell it came\n",
    "from.\n",
    "\n",
    "When it attempts to leave the grid, it will receive $-30$ points and stay where it is.\n",
    "\n",
    "All actions entering an unmarked cell will receive $-1$ point.\n",
    "\n",
    "Compute the expected value of all cells for a policy that chooses with probability $0.5$ a random\n",
    "action and otherwise moves to the right.\n",
    "\n",
    "The discount parameter shall be $\\gamma=0.9$.\n",
    "\n",
    "First, we need to define the framework for this gridworld. I decide on representing the grid world using a $(9$ x $9)$ numpy array. Individual cells can be accessed using tuples of the form $(y,x)$ and store $-1$ for empty cells, $-20$ for walls, $10$ for stars and $100$ for the terminal states."
   ]
  },
  {
   "cell_type": "code",
   "execution_count": 1,
   "metadata": {},
   "outputs": [
    {
     "name": "stdout",
     "output_type": "stream",
     "text": [
      "[[ 10.  10.  10.  -1.  -1.  -1.  -1.  10.  10.]\n",
      " [ -1.  -1.  -1.  -1.  -1. -20.  -1. -20.  10.]\n",
      " [ -1. -20. -20. -20. -20. -20.  -1. -20.  -1.]\n",
      " [ -1. -20.  10.  10.  10.  10. -20.  -1. 100.]\n",
      " [ -1.  -1.  10. -20. -20. -20.  -1.  -1.  -1.]\n",
      " [ -1.  -1.  -1.  -1.  -1.  -1.  -1. -20.  -1.]\n",
      " [ -1. -20. -20. -20. -20. -20. -20.  -1.  -1.]\n",
      " [ -1.  10.  10.  10.  10.  10.  10.  -1. -20.]\n",
      " [ -1.  10.  10.  10. -20.  10.  10.  -1. -20.]]\n"
     ]
    }
   ],
   "source": [
    "import numpy as np\n",
    "\n",
    "gridworld = -1. * np.ones((9,9))\n",
    "stars = [(0,0), (0,1), (0,2), (0,7), (0,8), (1,8), \\\n",
    "         (3,2), (3,3), (3,4), (3,5), (4,2), \\\n",
    "         (7,1), (7,2), (7,3), (7,4), (7,5), (7,6), \\\n",
    "         (8,1), (8,2), (8,3), (8,5), (8,6)]\n",
    "for cell in stars:\n",
    "    gridworld[cell] = 10.\n",
    "\n",
    "obstacles = [(1,5), (1,7), (2,1), (2,2), (2,3), (2,4), (2,5), (2,7), \\\n",
    "             (3,1), (3,6), (4,3), (4,4), (4,5), (5,7), \\\n",
    "             (6,1), (6,2), (6,3), (6,4), (6,5), (6,6),\\\n",
    "             (7,8), (8,4), (8,8)]\n",
    "for cell in obstacles:\n",
    "    gridworld[cell] = -20.\n",
    "\n",
    "terminalStates = [(3,8)]\n",
    "for cell in terminalStates:\n",
    "    gridworld[cell] = 100.\n",
    "\n",
    "print(gridworld)\n",
    "np.save('gridworld.npy', gridworld)"
   ]
  },
  {
   "cell_type": "markdown",
   "metadata": {},
   "source": [
    "Next, we need to represent the reward of taking actions for each action in each state. We create another numpy array of the shape ($8$ x $9$ x $9)$. The first axis has $8$ entries because we will need $8$ actions in later tasks. The actions are indexed in a clockwise fashion: Northwest-North-Northeast-East-Southeast-South-Southwest-West.\n",
    "\n",
    "For each action, we want to know what reward executing it in a certain cell entails. For example, executing the action $\\textit{North}$ in the cell $(4,8)$ yields a reward of $100$ for entering the terminal state. Executing the same action in $(0,2)$, costs of $30$ incur because it would correspond to leaving the grid. Please note that the origin of our grid world coordinate system is, in this framework, the top-left corner of the grid. Thus, the y-Axis is inverted. For each action, this can be efficiently calculated by constructing an action-kernel and correlating it (think convolution but the kernel is rotated by $180°$) with the grid world. The action-kernel simply encodes the relative position of the cell we attempt to enter when executing the action. For example, for the action $\\textit{Southwest}$, we construct\n",
    "\n",
    "$K_{SW} = \\left( \\begin{array}{rrr}\n",
    "0 & 0 & 0 \\\\\n",
    "0 & 0 & 0 \\\\\n",
    "1 & 0 & 0 \\\\\n",
    "\\end{array}\\right) $.\n",
    "\n",
    "Before correlation, we pad the grid world with a border of width $1$, filled with the value $-30$, such that actions leaving the grid are also represented correctly."
   ]
  },
  {
   "cell_type": "code",
   "execution_count": 2,
   "metadata": {},
   "outputs": [
    {
     "name": "stdout",
     "output_type": "stream",
     "text": [
      "[[-30. -30. -30. -30. -30. -30. -30. -30. -30.]\n",
      " [-30.  10.  10.  10.  -1.  -1.  -1.  -1.  10.]\n",
      " [-30.  -1.  -1.  -1.  -1.  -1. -20.  -1. -20.]\n",
      " [-30.  -1. -20. -20. -20. -20. -20.  -1. -20.]\n",
      " [-30.  -1. -20.  10.  10.  10.  10. -20.  -1.]\n",
      " [-30.  -1.  -1.  10. -20. -20. -20.  -1.  -1.]\n",
      " [-30.  -1.  -1.  -1.  -1.  -1.  -1.  -1. -20.]\n",
      " [-30.  -1. -20. -20. -20. -20. -20. -20.  -1.]\n",
      " [-30.  -1.  10.  10.  10.  10.  10.  10.  -1.]] \n",
      "\n",
      "[[-30. -30. -30. -30. -30. -30. -30. -30. -30.]\n",
      " [ 10.  10.  10.  -1.  -1.  -1.  -1.  10.  10.]\n",
      " [ -1.  -1.  -1.  -1.  -1. -20.  -1. -20.  10.]\n",
      " [ -1. -20. -20. -20. -20. -20.  -1. -20.  -1.]\n",
      " [ -1. -20.  10.  10.  10.  10. -20.  -1. 100.]\n",
      " [ -1.  -1.  10. -20. -20. -20.  -1.  -1.  -1.]\n",
      " [ -1.  -1.  -1.  -1.  -1.  -1.  -1. -20.  -1.]\n",
      " [ -1. -20. -20. -20. -20. -20. -20.  -1.  -1.]\n",
      " [ -1.  10.  10.  10.  10.  10.  10.  -1. -20.]] \n",
      "\n",
      "[[-30. -30. -30. -30. -30. -30. -30. -30. -30.]\n",
      " [ 10.  10.  -1.  -1.  -1.  -1.  10.  10. -30.]\n",
      " [ -1.  -1.  -1.  -1. -20.  -1. -20.  10. -30.]\n",
      " [-20. -20. -20. -20. -20.  -1. -20.  -1. -30.]\n",
      " [-20.  10.  10.  10.  10. -20.  -1. 100. -30.]\n",
      " [ -1.  10. -20. -20. -20.  -1.  -1.  -1. -30.]\n",
      " [ -1.  -1.  -1.  -1.  -1.  -1. -20.  -1. -30.]\n",
      " [-20. -20. -20. -20. -20. -20.  -1.  -1. -30.]\n",
      " [ 10.  10.  10.  10.  10.  10.  -1. -20. -30.]] \n",
      "\n",
      "[[ 10.  10.  -1.  -1.  -1.  -1.  10.  10. -30.]\n",
      " [ -1.  -1.  -1.  -1. -20.  -1. -20.  10. -30.]\n",
      " [-20. -20. -20. -20. -20.  -1. -20.  -1. -30.]\n",
      " [-20.  10.  10.  10.  10. -20.  -1. 100. -30.]\n",
      " [ -1.  10. -20. -20. -20.  -1.  -1.  -1. -30.]\n",
      " [ -1.  -1.  -1.  -1.  -1.  -1. -20.  -1. -30.]\n",
      " [-20. -20. -20. -20. -20. -20.  -1.  -1. -30.]\n",
      " [ 10.  10.  10.  10.  10.  10.  -1. -20. -30.]\n",
      " [ 10.  10.  10. -20.  10.  10.  -1. -20. -30.]] \n",
      "\n",
      "[[ -1.  -1.  -1.  -1. -20.  -1. -20.  10. -30.]\n",
      " [-20. -20. -20. -20. -20.  -1. -20.  -1. -30.]\n",
      " [-20.  10.  10.  10.  10. -20.  -1. 100. -30.]\n",
      " [ -1.  10. -20. -20. -20.  -1.  -1.  -1. -30.]\n",
      " [ -1.  -1.  -1.  -1.  -1.  -1. -20.  -1. -30.]\n",
      " [-20. -20. -20. -20. -20. -20.  -1.  -1. -30.]\n",
      " [ 10.  10.  10.  10.  10.  10.  -1. -20. -30.]\n",
      " [ 10.  10.  10. -20.  10.  10.  -1. -20. -30.]\n",
      " [-30. -30. -30. -30. -30. -30. -30. -30. -30.]] \n",
      "\n",
      "[[ -1.  -1.  -1.  -1.  -1. -20.  -1. -20.  10.]\n",
      " [ -1. -20. -20. -20. -20. -20.  -1. -20.  -1.]\n",
      " [ -1. -20.  10.  10.  10.  10. -20.  -1. 100.]\n",
      " [ -1.  -1.  10. -20. -20. -20.  -1.  -1.  -1.]\n",
      " [ -1.  -1.  -1.  -1.  -1.  -1.  -1. -20.  -1.]\n",
      " [ -1. -20. -20. -20. -20. -20. -20.  -1.  -1.]\n",
      " [ -1.  10.  10.  10.  10.  10.  10.  -1. -20.]\n",
      " [ -1.  10.  10.  10. -20.  10.  10.  -1. -20.]\n",
      " [-30. -30. -30. -30. -30. -30. -30. -30. -30.]] \n",
      "\n",
      "[[-30.  -1.  -1.  -1.  -1.  -1. -20.  -1. -20.]\n",
      " [-30.  -1. -20. -20. -20. -20. -20.  -1. -20.]\n",
      " [-30.  -1. -20.  10.  10.  10.  10. -20.  -1.]\n",
      " [-30.  -1.  -1.  10. -20. -20. -20.  -1.  -1.]\n",
      " [-30.  -1.  -1.  -1.  -1.  -1.  -1.  -1. -20.]\n",
      " [-30.  -1. -20. -20. -20. -20. -20. -20.  -1.]\n",
      " [-30.  -1.  10.  10.  10.  10.  10.  10.  -1.]\n",
      " [-30.  -1.  10.  10.  10. -20.  10.  10.  -1.]\n",
      " [-30. -30. -30. -30. -30. -30. -30. -30. -30.]] \n",
      "\n",
      "[[-30.  10.  10.  10.  -1.  -1.  -1.  -1.  10.]\n",
      " [-30.  -1.  -1.  -1.  -1.  -1. -20.  -1. -20.]\n",
      " [-30.  -1. -20. -20. -20. -20. -20.  -1. -20.]\n",
      " [-30.  -1. -20.  10.  10.  10.  10. -20.  -1.]\n",
      " [-30.  -1.  -1.  10. -20. -20. -20.  -1.  -1.]\n",
      " [-30.  -1.  -1.  -1.  -1.  -1.  -1.  -1. -20.]\n",
      " [-30.  -1. -20. -20. -20. -20. -20. -20.  -1.]\n",
      " [-30.  -1.  10.  10.  10.  10.  10.  10.  -1.]\n",
      " [-30.  -1.  10.  10.  10. -20.  10.  10.  -1.]] \n",
      "\n"
     ]
    }
   ],
   "source": [
    "import cv2\n",
    "\n",
    "gridworld = np.load('gridworld.npy')\n",
    "\n",
    "###construct kernels\n",
    "kernels = []\n",
    "blankKernel = np.zeros((3,3))\n",
    "for action in [0, 1, 2, 5, 8, 7, 6, 3]: #[NW, N, NE, E, SE, S, SW, W]\n",
    "    kernel = blankKernel.copy()\n",
    "    kernel[np.unravel_index(action, kernel.shape)] = 1.0\n",
    "    kernels.append(kernel)\n",
    "\n",
    "###pad borders of the grid with values of -30\n",
    "paddedGrid = np.pad(gridworld, (1,1), mode = 'constant', constant_values = -30)\n",
    "\n",
    "###correlate individual action-kernels with the padded grid, build 8x9x9 data structre\n",
    "rewards = []\n",
    "for actionKernel in kernels:\n",
    "    actionRewards = cv2.filter2D(paddedGrid, -1, actionKernel)\n",
    "    actionRewards = actionRewards[1:(len(actionRewards)-1),:][:,1:(len(actionRewards[0])-1)]\n",
    "    rewards.append(actionRewards)\n",
    "rewards = np.array(rewards)\n",
    "\n",
    "for item in rewards:\n",
    "    print(item,\"\\n\")\n",
    "    \n",
    "np.save('rewards.npy', rewards)"
   ]
  },
  {
   "cell_type": "markdown",
   "metadata": {},
   "source": [
    "The rewards look fine, so we can actually start with the tasks now. On this assignment sheet, the framework constitutes a large share of the total work. Ideally, it is re-usable in each task. For this reason, do not be confused if you recieve points in tasks you did not hand in, as I felt that giving a portion of each tasks' points for the framework was only fair. \n",
    "\n",
    "In attempt to be as transparent as possible, we list all algorithms' hyperparameters right at the beginning. Here, $\\gamma$ is the discount factor dampening the agent's interest in future rewards, $\\theta$ is the convergence criterion for $\\textit{iterative policy evaluation}$ and $\\textit{value iteration}$, while $\\epsilon$ implements the $\\textit{policy-stable}$ criterion from lecture $3$ slide $34$."
   ]
  },
  {
   "cell_type": "code",
   "execution_count": 3,
   "metadata": {},
   "outputs": [],
   "source": [
    "np.set_printoptions(suppress=True)\n",
    "\n",
    "#Hyperparameters:\n",
    "gamma = 0.9\n",
    "theta = 0.01\n",
    "eps = 0.01\n",
    "\n",
    "gridworld = np.load('gridworld.npy')\n",
    "rewards = np.load('rewards.npy')"
   ]
  },
  {
   "cell_type": "markdown",
   "metadata": {},
   "source": [
    "In $\\textit{iterative policy evaluation}$, the update rule is\n",
    "\n",
    "$\\begin{equation} V(s) \\leftarrow \\sum_{a}\\pi(s,a)\\cdot\\sum_{s'}P_{ss'}^a\\cdot[R_{ss'}^a+\\gamma\\cdot V(s')]\n",
    "\\end{equation}$.\n",
    "\n",
    "Of course, the only terms that contribute to the inner sum are those which satisfy $P_{ss'}^a \\neq 0$. However, this is only true for very few states, namely those $s'$ which are potentially reached when executing $a$ in $s$. In tasks $1$ through $3$, there is only $1$ potential successor state, in $\\textbf{3.4)}$, we have a maximum of $3$ due to random deviations from our intended action. \n",
    "\n",
    "From a technical perspective, the challenge is determining the potential successor states as well their respective transtition probabilities. Given the action and state to be examined (note that these are fixed in the inner loop of the update), and the properties of the grid world encoded in our previous framework, we define a function that examines possible state transitions and returns $s'$ such that $P_{ss'}^a \\neq 0$ as well as the associated $P_{ss'}^a$ and $R_{ss'}^a$. Calling this function yields everything necessary for calculating the inner sum. We want to use this in task $4$, where we encounter a connatural update rule, so we include the $\\textit{deviation}$ case to deal with the uncertainty of the environment. "
   ]
  },
  {
   "cell_type": "code",
   "execution_count": 4,
   "metadata": {},
   "outputs": [],
   "source": [
    "def getNextStatesRewardsAndProbabilities(state, action, rewards, deviation = False):\n",
    "    coordinateActions = [(-1,-1), (-1,0), (-1,1), (0,1), (1,1), (1,0), (1,-1), (0,-1)]\n",
    "                        #[NW,      N,      NE,     E,     SE,    S,     SW,     W]\n",
    "    nextStatesAndProbabilities = []\n",
    "    if deviation:\n",
    "        actions = [(action + wind)%8 for wind in [-1, 0, 1]] #45° to the left, none, 45° to the right deviations\n",
    "        probabilities = [0.1, 0.8, 0.1]                    #deviation probabilities defined on the assignment sheet\n",
    "    else:\n",
    "        actions = [action]                                   #the agent always executes the selected action correctly\n",
    "        probabilities = [1.]\n",
    "    for i,a in enumerate(actions):\n",
    "        R = rewards[a][state]                                #check which reward the action would yield\n",
    "        if R < -1.:                                          #if the reward is -1, -5 or -20, s' remains s \n",
    "            nextState = state\n",
    "        else:\n",
    "            nextState = tuple(map(sum, zip(state, coordinateActions[a]))) #else, actually move to a different s'\n",
    "        nextStatesAndProbabilities.append([nextState, R, probabilities[i]])\n",
    "    return nextStatesAndProbabilities"
   ]
  },
  {
   "cell_type": "markdown",
   "metadata": {},
   "source": [
    "The inner loop of the update rule dealt with, most of the legwork is done. Now we can simply copy the algorithm from lecture $3$, slide $25$. We represent $\\pi(s,a)$ using a $(9$ x $9$ x $8)$ numpy array which defines a probability distribution over the actions for each state. "
   ]
  },
  {
   "cell_type": "code",
   "execution_count": 5,
   "metadata": {},
   "outputs": [],
   "source": [
    "def iterativePolicyEvaluation(policy, rewards, states, actions, deviation = False):\n",
    "    delta = theta + 1\n",
    "    V = np.zeros_like(rewards[0])\n",
    "    while delta > theta:\n",
    "        delta = 0.\n",
    "        for s in states:\n",
    "            v = V[s]\n",
    "            sumOverActions = 0.0\n",
    "            for a in actions:\n",
    "                sumOverNextStates = 0.0\n",
    "                for sPrime, R, P in getNextStatesRewardsAndProbabilities(s, a, rewards, deviation):\n",
    "                    sumOverNextStates += P * (R + gamma * V[sPrime])\n",
    "                sumOverActions += policy[s][a] * sumOverNextStates\n",
    "            V[s] = sumOverActions\n",
    "            delta = max([delta, abs(v - V[s])])\n",
    "    return V"
   ]
  },
  {
   "cell_type": "markdown",
   "metadata": {},
   "source": [
    "Since the following code is meant to be independent from the definition of the framework, we need to specify again the locations of obstacles and terminal states. "
   ]
  },
  {
   "cell_type": "code",
   "execution_count": 6,
   "metadata": {},
   "outputs": [],
   "source": [
    "states = [(y,x) for y in range(len(gridworld[0])) for x in range(len(gridworld))]\n",
    "terminalStates = [(3,8)]\n",
    "obstacles = [(1,5), (1,7), (2,1), (2,2), (2,3), (2,4), (2,5), (2,7), \\\n",
    "             (3,1), (3,6), (4,3), (4,4), (4,5), (5,7), \\\n",
    "             (6,1), (6,2), (6,3), (6,4), (6,5), (6,6),\\\n",
    "             (7,8), (8,4), (8,8)]\n",
    "statesRelevant = [cell for cell in states if not(cell in terminalStates or cell in obstacles)]"
   ]
  },
  {
   "cell_type": "markdown",
   "metadata": {},
   "source": [
    "In task 1, the policy is rather arbitrary:\n",
    "\n",
    "\"$[...]$ a policy that chooses with probability $0.5$ a random\n",
    "action and otherwise moves to the right.\"\n",
    "\n",
    "We therefore select $\\textit{North}$,  $\\textit{East}$,  $\\textit{South}$ and  $\\textit{West}$ as our available actions and assign to them the probabilities $0.5\\cdot0.25$, $0.5\\cdot0.25 + 0.5$, $0.5\\cdot0.25$ and $0.5\\cdot0.25$. Since this distribution exists independently in each state, we tile it over the whole grid world. We execute $\\textit{iterative policy evaluation}$ and print $V^{\\pi}$."
   ]
  },
  {
   "cell_type": "code",
   "execution_count": 7,
   "metadata": {},
   "outputs": [
    {
     "name": "stdout",
     "output_type": "stream",
     "text": [
      "State Values:\n",
      "[[ -55.72  -60.29  -76.22  -85.94  -95.17 -102.06 -109.15 -128.04 -154.36]\n",
      " [ -70.24  -71.04  -82.43  -97.05 -113.45    0.   -138.84    0.   -140.13]\n",
      " [-114.36    0.      0.      0.      0.      0.   -156.42    0.    -71.58]\n",
      " [-113.49    0.    -67.69  -82.24 -104.23 -131.61    0.     67.98    0.  ]\n",
      " [ -66.87  -61.7   -77.43    0.      0.      0.    -51.57  -41.73  -63.12]\n",
      " [ -64.48  -63.87  -69.53  -77.89  -83.19  -88.82  -95.52    0.   -145.96]\n",
      " [ -81.41    0.      0.      0.      0.      0.      0.   -146.68 -167.45]\n",
      " [ -24.08  -19.83  -28.51  -42.32  -57.4   -75.07 -100.96 -122.15    0.  ]\n",
      " [ -29.39  -33.23  -49.04  -73.92    0.    -85.57 -105.1  -125.2     0.  ]]\n"
     ]
    }
   ],
   "source": [
    "actions = [1, 3, 5, 7] # = [N, E, S, W]\n",
    "\n",
    "policy = np.array([0., 0.5 * 0.25, 0., 0.5 * 0.25  + 0.5, 0., 0.5 * 0.25, 0., 0.5 * 0.25])\n",
    "policy = np.tile(policy, gridworld.shape).reshape(gridworld.shape + (8,))\n",
    "\n",
    "V = iterativePolicyEvaluation(policy, rewards, statesRelevant, actions)\n",
    "print(\"State Values:\")\n",
    "print(np.around(V, 2))\n",
    "np.save('stateValuesTask1.npy', V)"
   ]
  },
  {
   "cell_type": "markdown",
   "metadata": {},
   "source": [
    "## Task 3.2)\n",
    "Use the Policy Iteration algorithm to compute the optimal value $V^*(s)$ for each cell.\n",
    "\n",
    "Indicate the resulting optimal policy $\\pi^*(s)$ with arrows in each cell. \n",
    "\n",
    "Since $\\textit{policy iteration}$ is simply alternating policy evaluation and policy improvement, and we already have policy evaluation in the form of $\\textit{iterative policy evaluation}$, the missing component is policy improvement. Policy improvement is the process of making a policy greedy with respect to $Q(s,a)$:\n",
    "\n",
    "$\\pi_{greedy}(s) := arg\\,max_a Q(s,a) = arg\\,max_a \\sum_{s'}P_{ss'}^a\\cdot[R_{ss'}^a+\\gamma\\cdot V(s')]$.\n",
    "\n",
    "The aforementioned equality retrieves $Q(s,a)$ from $V(s)$. Since numpy supplies an $argmax()$ method, this is all we need to implement. Notice that this is actually exactly the inner sum from $\\textbf{3.1)}$, so we can just upcycle previous code."
   ]
  },
  {
   "cell_type": "code",
   "execution_count": 8,
   "metadata": {},
   "outputs": [],
   "source": [
    "def QFromV(V, rewards, states, actions, deviation = False):\n",
    "    Q = np.tile(np.zeros(8), V.shape).reshape(V.shape + (8,))\n",
    "    for s in states:\n",
    "        for a in actions:\n",
    "            for sPrime, R, P in getNextStatesRewardsAndProbabilities(s, a, rewards, deviation):\n",
    "                Q[s][a] += P * (R + gamma * V[sPrime])\n",
    "    return Q"
   ]
  },
  {
   "cell_type": "markdown",
   "metadata": {},
   "source": [
    "We now have all pieces of the puzzle, and proceed to assemble them closely following lecture $3$, slide $34$. "
   ]
  },
  {
   "cell_type": "code",
   "execution_count": 9,
   "metadata": {},
   "outputs": [],
   "source": [
    "def PolicyIteration(rewards, states, actions, initialPolicy = None, deviation = False):\n",
    "    policyStable = False\n",
    "    if initialPolicy is not None:\n",
    "        pi = initialPolicy\n",
    "    else:\n",
    "        pi = np.tile(0.125*np.ones(8), rewards[0].shape).reshape(rewards[0].shape + (8,))\n",
    "    while not(policyStable):\n",
    "        policyStable = True\n",
    "        V =iterativePolicyEvaluation(pi, rewards, states, actions, deviation)\n",
    "        Q = QFromV(V, rewards, states, actions, deviation)\n",
    "        for s in states:\n",
    "            b = pi[s].copy()\n",
    "            pi[s] = np.zeros(8)\n",
    "            pi[s][np.argmax(Q[s])] = 1.\n",
    "            if np.linalg.norm(pi[s] - b) > eps:\n",
    "                policyStable = False\n",
    "    return V, pi"
   ]
  },
  {
   "cell_type": "markdown",
   "metadata": {},
   "source": [
    "In this task, we also need to visualize the resulting optimal policy. We could simply print the arrows to the console, but I prefer a prettier plot. However, pyplot was not really designed for this sort of thing, so please excuse (I actually recommend you skip over) the following code which draws deterministic policies."
   ]
  },
  {
   "cell_type": "code",
   "execution_count": 10,
   "metadata": {},
   "outputs": [],
   "source": [
    "import matplotlib.pyplot as plt\n",
    "from matplotlib.collections import PatchCollection\n",
    "from matplotlib.patches import Rectangle\n",
    "import warnings\n",
    "warnings.filterwarnings('ignore')\n",
    "\n",
    "def drawPolicy(pi, cells = states, terminalStates = terminalStates, obstacles = obstacles, stars = stars):\n",
    "    ticks = np.arange(0,10)\n",
    "    fig = plt.figure()\n",
    "    ax = fig.add_subplot(1, 1, 1)\n",
    "    ax.axis([0,9,0,9],'equal')\n",
    "    ax.set_xticks(ticks)\n",
    "    ax.set_yticks(ticks)\n",
    "    ax.set_yticklabels([])\n",
    "    ax.set_xticklabels([])\n",
    "    fig.gca().set_aspect('equal')\n",
    "    fig.gca().invert_yaxis()\n",
    "    ax.grid(True,color='k')\n",
    "    for axi in (ax.xaxis, ax.yaxis):\n",
    "        for tic in axi.get_major_ticks():\n",
    "            tic.tick1On = tic.tick2On = False\n",
    "            tic.label1On = tic.label2On = False\n",
    "    for cell in cells:\n",
    "        if cell in terminalStates:\n",
    "            rect = Rectangle((cell[1],cell[0]),1,1,color='palegreen')\n",
    "            ax.add_patch(rect)\n",
    "        elif cell in obstacles:\n",
    "            rect = Rectangle((cell[1],cell[0]),1,1,color='lightsalmon')\n",
    "            ax.add_patch(rect)\n",
    "        else:\n",
    "            if cell in stars:\n",
    "                rect = Rectangle((cell[1],cell[0]),1,1,color='cornflowerblue')\n",
    "                ax.add_patch(rect)\n",
    "            if pi[cell][0] == 1.:\n",
    "                ax.arrow(cell[1]+0.85,cell[0]+0.85,-0.7,-0.7,head_width=0.2, head_length=0.2,length_includes_head=True,\n",
    "                        fill = True)\n",
    "            elif pi[cell][1] == 1.:\n",
    "                ax.arrow(cell[1]+0.5,cell[0]+0.9,0,-0.8,head_width=0.2, head_length=0.2,length_includes_head=True,\n",
    "                        fill = True)\n",
    "            elif pi[cell][2] == 1.:\n",
    "                ax.arrow(cell[1]+0.15,cell[0]+0.85,0.7,-0.7,head_width=0.2, head_length=0.2,length_includes_head=True,\n",
    "                        fill = True)\n",
    "            elif pi[cell][3] == 1.:\n",
    "                ax.arrow(cell[1]+0.1,cell[0]+0.5,0.8,0,head_width=0.2, head_length=0.2,length_includes_head=True,\n",
    "                        fill = True)\n",
    "            elif pi[cell][4] == 1.:\n",
    "                ax.arrow(cell[1]+0.15,cell[0]+0.15,0.7,0.7,head_width=0.2, head_length=0.2,length_includes_head=True,\n",
    "                        fill = True)\n",
    "            elif pi[cell][5] == 1.:\n",
    "                ax.arrow(cell[1]+0.5,cell[0]+0.1,0,0.8,head_width=0.2, head_length=0.2,length_includes_head=True,\n",
    "                        fill = True)\n",
    "            elif pi[cell][6] == 1.:\n",
    "                ax.arrow(cell[1]+0.85,cell[0]+0.15,-0.7,0.7,head_width=0.2, head_length=0.2,length_includes_head=True,\n",
    "                        fill = True)\n",
    "            else:\n",
    "                ax.arrow(cell[1]+0.9,cell[0]+0.5,-0.8,0,head_width=0.2, head_length=0.2,length_includes_head=True,\n",
    "                        fill = True)\n",
    "\n",
    "    fig.show()"
   ]
  },
  {
   "cell_type": "code",
   "execution_count": 11,
   "metadata": {},
   "outputs": [
    {
     "name": "stdout",
     "output_type": "stream",
     "text": [
      "Optimal values with 4 actions:\n",
      "[[ 99.98  99.98  99.98  99.98  88.99  88.97  99.98  99.98  99.98]\n",
      " [ 99.98  99.98  99.98  88.99  79.09   0.    88.98   0.    99.98]\n",
      " [ 88.98   0.     0.     0.     0.     0.    79.08   0.   100.  ]\n",
      " [ 79.08   0.    99.98  99.98  99.98  99.98   0.   100.     0.  ]\n",
      " [ 88.97  99.98  99.98   0.     0.     0.    79.1   89.   100.  ]\n",
      " [ 79.08  88.98  99.98  88.98  79.08  70.18  70.19   0.    89.  ]\n",
      " [ 88.96   0.     0.     0.     0.     0.     0.    88.98  79.1 ]\n",
      " [ 99.96  99.97  99.97  99.97  99.98  99.98  99.98  99.98   0.  ]\n",
      " [ 99.97  99.97  99.97  99.98   0.    99.98  99.98  99.98   0.  ]]\n"
     ]
    },
    {
     "data": {
      "image/png": "[encoded data removed]",
      "text/plain": [
       "<Figure size 432x288 with 1 Axes>"
      ]
     },
     "metadata": {},
     "output_type": "display_data"
    }
   ],
   "source": [
    "V, pi1 = PolicyIteration(rewards, statesRelevant, actions, initialPolicy = policy)\n",
    "print(\"Optimal values with 4 actions:\")\n",
    "print(np.around(V, 2))\n",
    "drawPolicy(pi1)"
   ]
  },
  {
   "cell_type": "markdown",
   "metadata": {},
   "source": [
    "## Task 3.3) \n",
    "Extend the action set by also allowing diagonal moves, such that the agent can move to its eight neighboring cells.\n",
    "\n",
    "Use the Value Iteration algorithm to compute the optimal value $V^*(s)$ for each cell.\n",
    "\n",
    "Indicate the resulting optimal policy $\\pi^*(s)$ with arrows in each cell.\n",
    "\n",
    "Discuss how value and policy changed, compared to 3.2)!\n",
    "\n",
    "In $\\textit{value iteration}$, the update rule is\n",
    "\n",
    "$\\begin{equation} V(s) \\leftarrow \\max_a \\sum_{s'}P_{ss'}^a\\cdot[R_{ss'}^a+\\gamma\\cdot V(s')]\n",
    "\\end{equation}$.\n",
    "\n",
    "This corresponds to the maximum $Q$ value, which we also know from task $1$ as the maximum addend of the inner sum. Therefore, we have already completed the lion's share of this task. All we need to do is reproduce lecture $3$, slide $38$. "
   ]
  },
  {
   "cell_type": "code",
   "execution_count": 12,
   "metadata": {},
   "outputs": [],
   "source": [
    "def valueIteration(rewards, states, actions, deviation = False):\n",
    "    delta = theta + 1\n",
    "    V = np.zeros_like(rewards[0])\n",
    "    while delta > theta:\n",
    "        delta = 0.\n",
    "        for s in states:\n",
    "            v = V[s]\n",
    "            Q = np.zeros(8)\n",
    "            for a in actions:\n",
    "                for sPrime, R, P in getNextStatesRewardsAndProbabilities(s, a, rewards, deviation):\n",
    "                        Q[a] += P * (R + gamma * V[sPrime])\n",
    "            V[s] = np.max(Q)\n",
    "            delta = max([delta, abs(v - V[s])])\n",
    "\n",
    "    pi = np.tile(np.zeros(8), rewards[0].shape).reshape(rewards[0].shape + (8,))\n",
    "    Q = QFromV(V, rewards, states, actions, deviation)\n",
    "    for s in states:\n",
    "        pi[s][np.argmax(Q[s])] = 1.\n",
    "    return V, pi"
   ]
  },
  {
   "cell_type": "markdown",
   "metadata": {},
   "source": [
    "Execute this function, print $V^*$ and draw $\\pi^*$. "
   ]
  },
  {
   "cell_type": "code",
   "execution_count": 13,
   "metadata": {},
   "outputs": [
    {
     "name": "stdout",
     "output_type": "stream",
     "text": [
      "Optimal values with 8 actions:\n",
      "[[ 99.96  99.97  99.97  99.97  88.98  89.   100.   100.   100.  ]\n",
      " [ 99.97  99.97  99.97  99.97  88.98   0.   100.     0.   100.  ]\n",
      " [ 88.98   0.     0.     0.     0.     0.   100.     0.   100.  ]\n",
      " [ 89.     0.   100.   100.   100.   100.     0.   100.     0.  ]\n",
      " [ 89.   100.   100.     0.     0.     0.   100.   100.   100.  ]\n",
      " [ 89.   100.   100.   100.    89.    89.    89.     0.    89.  ]\n",
      " [100.     0.     0.     0.     0.     0.     0.   100.    89.  ]\n",
      " [100.   100.   100.   100.   100.   100.   100.   100.     0.  ]\n",
      " [100.   100.   100.   100.     0.   100.   100.   100.     0.  ]]\n"
     ]
    },
    {
     "data": {
      "image/png": "[encoded data removed]",
      "text/plain": [
       "<Figure size 432x288 with 1 Axes>"
      ]
     },
     "metadata": {},
     "output_type": "display_data"
    }
   ],
   "source": [
    "actions = np.arange(8) #we can move diagonally now, so we switch to 8 actions\n",
    "V3, pi3 = valueIteration(rewards, statesRelevant, actions, False)\n",
    "print(\"Optimal values with 8 actions:\")\n",
    "print(np.around(V3, 2))\n",
    "drawPolicy(pi3)"
   ]
  },
  {
   "cell_type": "markdown",
   "metadata": {},
   "source": [
    "## Task 3.4) \n",
    "Consider non-deterministic actions, where the agent moves with probability $0.8$ into the desired\n",
    "direction, but with probability $0.1$ deviates $45°$ to the left and with probability $0.1$ deviates\n",
    "$45°$ to the right of the desired direction. \n",
    "\n",
    "Compute again $V^*(s)$ and indicate $\\pi^*(s)$ with arrows.\n",
    "\n",
    "Discuss how value and policy changed, compared to $\\textbf{3.3)}$!\n",
    "\n",
    "Our framework is general enough to deal with the deviations from the get-go, so we just need to run the code from $\\textbf{3.3)}$ with $\\textit{deviations}$ set to $True$. For convenience, we draw the policy from the previous task again."
   ]
  },
  {
   "cell_type": "code",
   "execution_count": 14,
   "metadata": {},
   "outputs": [
    {
     "name": "stdout",
     "output_type": "stream",
     "text": [
      "Optimal values with 8 actions and deviations:\n",
      "[[52.92 52.88 52.92 52.89 48.39 60.72 68.96 74.37 69.97]\n",
      " [56.92 57.6  56.92 55.79 49.64  0.   72.15  0.   75.53]\n",
      " [48.02  0.    0.    0.    0.    0.   79.08  0.   94.07]\n",
      " [59.85  0.   68.2  69.14 65.58 67.12  0.   96.73  0.  ]\n",
      " [69.75 70.95 69.14  0.    0.    0.   83.11 96.97 94.07]\n",
      " [76.63 79.82 68.2  67.93 56.18 70.65 81.76  0.   82.84]\n",
      " [95.34  0.    0.    0.    0.    0.    0.   95.35 84.39]\n",
      " [98.76 99.97 99.97 99.97 96.68 99.98 99.98 98.77  0.  ]\n",
      " [98.77 99.97 99.98 99.98  0.   99.98 99.98 98.77  0.  ]]\n"
     ]
    },
    {
     "data": {
      "image/png": "[encoded data removed]",
      "text/plain": [
       "<Figure size 432x288 with 1 Axes>"
      ]
     },
     "metadata": {},
     "output_type": "display_data"
    }
   ],
   "source": [
    "V4, pi4 = valueIteration(rewards, statesRelevant, actions, True)\n",
    "print(\"Optimal values with 8 actions and deviations:\")\n",
    "print(np.around(V4, 2))\n",
    "drawPolicy(pi4)"
   ]
  },
  {
   "cell_type": "code",
   "execution_count": 15,
   "metadata": {},
   "outputs": [
    {
     "data": {
      "image/png": "[encoded data removed]",
      "text/plain": [
       "<Figure size 432x288 with 1 Axes>"
      ]
     },
     "metadata": {},
     "output_type": "display_data"
    }
   ],
   "source": [
    "drawPolicy(pi3)"
   ]
  },
  {
   "cell_type": "markdown",
   "metadata": {},
   "source": [
    "As we can see, the new policy is careful near the border of the grid, and tries to get away from it. This can be observed nicely at the bottom of the grid. Also, the agent is less willing to go for a permanent loop in the star cell in the center of the grid, the right-most star cell there actually tries to skip directly towards the goal. The same is true for the star cells in the top-right of the grid, in an uncertain environment close to the goal state, the agent now chooses to attempt to reach the goal."
   ]
  },
  {
   "cell_type": "code",
   "execution_count": null,
   "metadata": {},
   "outputs": [],
   "source": []
  }
 ],
 "metadata": {
  "kernelspec": {
   "display_name": "Python 3",
   "language": "python",
   "name": "python3"
  },
  "language_info": {
   "codemirror_mode": {
    "name": "ipython",
    "version": 3
   },
   "file_extension": ".py",
   "mimetype": "text/x-python",
   "name": "python",
   "nbconvert_exporter": "python",
   "pygments_lexer": "ipython3",
   "version": "3.6.9"
  }
 },
 "nbformat": 4,
 "nbformat_minor": 4
}

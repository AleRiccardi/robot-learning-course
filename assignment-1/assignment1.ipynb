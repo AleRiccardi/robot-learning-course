{
 "cells": [
  {
   "cell_type": "code",
   "execution_count": 3,
   "metadata": {},
   "outputs": [],
   "source": [
    "# Import libraries\n",
    "%matplotlib inline\n",
    "import numpy as np\n",
    "import matplotlib.pyplot as plt"
   ]
  },
  {
   "cell_type": "code",
   "execution_count": 4,
   "metadata": {},
   "outputs": [],
   "source": [
    "# Helpers\n",
    "def move_still_possible(S):\n",
    "    return not (S[S==0].size == 0)\n",
    "\n",
    "\n",
    "def move_o(S):\n",
    "    xs, ys = np.where(S==0)\n",
    "\n",
    "    i = np.random.permutation(np.arange(xs.size))[0]\n",
    "    \n",
    "    S[xs[i],ys[i]] = -1\n",
    "\n",
    "    return S\n",
    "\n",
    "def move_x(S, vs, count):\n",
    "    xs, ys = np.where(S==0)\n",
    "    valid = False\n",
    "    \n",
    "    # first 10 games, play by selection\n",
    "    if count < 10:\n",
    "        while(not valid):\n",
    "            print(\"Make a move: \", end=\"\")\n",
    "            i = int(input()) - 1\n",
    "            x = i % 3\n",
    "            y = i // 3\n",
    "\n",
    "            if S[y, x] == 0:\n",
    "                S[y, x] = 1\n",
    "                valid = True\n",
    "            else:\n",
    "                print(\"Invalid move\")\n",
    "    \n",
    "    # play by AI\n",
    "    else:\n",
    "        # AI choice\n",
    "        if np.random.random_sample((0,1)) > 0.1:\n",
    "            vs_values = vs[np.array_str(S)]\n",
    "            valid_poses = [ys[i] * 3 + xs[i] for i in range(xs.size)]\n",
    "\n",
    "            max_v = -np.inf\n",
    "            i = -1\n",
    "            for k in range(vs_values.size):\n",
    "                if (vs_values[k] > max_v and k in valid_poses):\n",
    "                    max_v = vs_values[k]\n",
    "                    i = k\n",
    "\n",
    "            S[xs[i],ys[i]] = 1\n",
    "\n",
    "        # Rand choice\n",
    "        else:\n",
    "            i = np.random.permutation(np.arange(xs.size))[0]\n",
    "            S[xs[i],ys[i]] = 1\n",
    "\n",
    "\n",
    "    return S, i\n",
    "    \n",
    "\n",
    "def move_was_winning_move(S, p):\n",
    "    if np.max((np.sum(S, axis=0)) * p) == 3:\n",
    "        return True\n",
    "\n",
    "    if np.max((np.sum(S, axis=1)) * p) == 3:\n",
    "        return True\n",
    "\n",
    "    if (np.sum(np.diag(S)) * p) == 3:\n",
    "        return True\n",
    "\n",
    "    if (np.sum(np.diag(np.rot90(S))) * p) == 3:\n",
    "        return True\n",
    "\n",
    "    return False\n",
    "\n",
    "# print game state matrix using characters\n",
    "def print_game_state(S):\n",
    "    B = np.copy(S).astype(object)\n",
    "    for n in [-1, 0, 1]:\n",
    "        B[B==n] = symbols[n]\n",
    "    print (B)\n",
    "\n",
    "\n",
    "def updateVs(vs, tracker, lastMove, last_vs):\n",
    "    # Tracker length\n",
    "    n_0 = len(tracker) - 1\n",
    "\n",
    "    # Traverse tracker in reverse order\n",
    "    for x in range(n_0, -1, -1):\n",
    "        # Update terminal state V(s)\n",
    "        if (x == n_0):\n",
    "            vs[np.array_str(tracker[x])][lastMove] = last_vs\n",
    "            continue\n",
    "        \n",
    "        # Update previous states V(s)\n",
    "        vs[np.array_str(tracker[x])] = (vs[np.array_str(tracker[x])] + 0.2 * (vs[np.array_str(tracker[x+1])] - vs[np.array_str(tracker[x])]))\n",
    "\n",
    "\n",
    "def showStatistics(wins, count):\n",
    "    freq = []\n",
    "    for x in range(0, len(wins), 100):\n",
    "        freq.append(wins[x-100:x].count(1) / 100)\n",
    "\n",
    "    plt.plot(freq)\n",
    "    plt.ylabel('Win frequency')\n",
    "    plt.show()"
   ]
  },
  {
   "cell_type": "code",
   "execution_count": 5,
   "metadata": {},
   "outputs": [],
   "source": [
    "# Symbols\n",
    "# python dictionary to map integers (1, -1, 0) to characters ('x', 'o', ' ')\n",
    "symbols = { 1:'x',\n",
    "           -1:'o',\n",
    "            0:' '}"
   ]
  },
  {
   "cell_type": "code",
   "execution_count": 8,
   "metadata": {},
   "outputs": [
    {
     "data": {
      "image/png": "[encoded data removed]",
      "text/plain": [
       "<Figure size 432x288 with 1 Axes>"
      ]
     },
     "metadata": {
      "needs_background": "light"
     },
     "output_type": "display_data"
    }
   ],
   "source": [
    "# Show learning curve\n",
    "showStatistics(wins, countGame)"
   ]
  }
 ],
 "metadata": {
  "kernelspec": {
   "display_name": "Python 3",
   "language": "python",
   "name": "python3"
  },
  "language_info": {
   "codemirror_mode": {
    "name": "ipython",
    "version": 3
   },
   "file_extension": ".py",
   "mimetype": "text/x-python",
   "name": "python",
   "nbconvert_exporter": "python",
   "pygments_lexer": "ipython3",
   "version": "3.7.2"
  }
 },
 "nbformat": 4,
 "nbformat_minor": 2
}

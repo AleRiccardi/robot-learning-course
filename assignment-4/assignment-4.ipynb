{
 "cells": [
  {
   "cell_type": "code",
   "execution_count": 1,
   "metadata": {},
   "outputs": [
    {
     "name": "stdout",
     "output_type": "stream",
     "text": [
      "[[-10. -10. -10. -10. -10. -10. -10. -10. -10. -10. -10. -10. -10. -10.]\n",
      " [-10. -10. -10. -10. -10.  -1.  -1.  -1.  -1.  -1.  -1.  -1.  -1.  -1.]\n",
      " [-10.  -1.  -1.  -1.  -1.  -1.  -1.  -1.  -1.  -1.  -1.  -1.  -1.  -1.]\n",
      " [-10.  -1.  -1.  -1.  -1.  -1.  -1.  -1.  -1.  -1.  -1.  -1.  -1.  -1.]\n",
      " [-10.  -1.  -1.  -1.  -1.  -1.  -1.  -1.  -1.  -1.  -1.  -1.  -1.  -1.]\n",
      " [-10.  -1.  -1.  -1.  -1.  -1.  -1.  -1.  -1.  -1.  -1.  -1.  -1.  -1.]\n",
      " [-10. -10.  -1.  -1.  -1.  -1.  -1.  -1.  -1.  -1.  -1. -10. -10. -10.]\n",
      " [-10. -10.  -1.  -1.  -1.  -1.  -1.  -1.  -1. -10. -10. -10. -10. -10.]\n",
      " [-10. -10.  -1.  -1.  -1.  -1.  -1.  -1. -10. -10. -10. -10. -10. -10.]\n",
      " [-10. -10. -10.  -1.  -1.  -1.  -1.  -1. -10. -10. -10. -10. -10. -10.]\n",
      " [-10. -10. -10.  -1.  -1.  -1.  -1.  -1. -10. -10. -10. -10. -10. -10.]\n",
      " [-10. -10. -10. -10.  -1.  -1.  -1.  -1. -10. -10. -10. -10. -10. -10.]\n",
      " [-10. -10. -10. -10.  -1.  -1.  -1.  -1. -10. -10. -10. -10. -10. -10.]\n",
      " [-10. -10. -10. -10.  -1.  -1.  -1. -10. -10. -10. -10. -10. -10. -10.]\n",
      " [-10. -10. -10. -10.  -1.  -1.  -1. -10. -10. -10. -10. -10. -10. -10.]\n",
      " [-10. -10. -10.  -1.  -1.  -1.  -1. -10. -10. -10. -10. -10. -10. -10.]\n",
      " [-10. -10. -10.  -1.  -1.  -1.  -1. -10. -10. -10. -10. -10. -10. -10.]\n",
      " [-10. -10. -10.  -1.  -1.  -1.  -1. -10. -10. -10. -10. -10. -10. -10.]]\n"
     ]
    }
   ],
   "source": [
    "import numpy as np\n",
    "#np.set_printoptions(threshold=np.inf)\n",
    "\n",
    "world = -1. * np.ones((18,14))\n",
    "starts = [(17,3), (17,4), (17,5), (17,6)]\n",
    "goals = [(1,13), (2,13), (3,13), (4,13), (5,13)]\n",
    "\n",
    "beg_ = [(6,11),(7,9),(8,8),(9,8),(10,8),(11,8),(12,8),(13,7),(14,7),(15,7),(16,7),(17,7)]\n",
    "end_ = [(0,13),(1,4),(2,0),(3,0),(4,0),(5,0),(6,1),(7,1),(8,1),(9,2),(10,2),(11,3),(12,3),(13,3),(14,3),(15,2),(16,2),(17,2)]\n",
    "\n",
    "for coup in end_:\n",
    "    world[coup[0], 0:coup[1]+1] = -10\n",
    "    \n",
    "for coup in beg_:\n",
    "    world[coup[0], coup[1]:14] = -10\n",
    "   \n",
    "for cell in goals:\n",
    "    world[cell] = -1\n",
    "\n",
    "print(world)"
   ]
  },
  {
   "cell_type": "code",
   "execution_count": 10,
   "metadata": {},
   "outputs": [],
   "source": [
    "MIN = 1\n",
    "MAX = 5\n",
    "\n",
    "def generate_actions():\n",
    "    actions = []\n",
    "    for i in range(MAX+1):\n",
    "        for j in range(MAX+1):\n",
    "            if MIN <= (i + j) <= MAX:\n",
    "                actions.append((i,j))\n",
    "    return actions\n",
    "\n",
    "actions = generate_actions()\n",
    "\n",
    "def move(state, action):\n",
    "    new_state = state.copy()\n",
    "    \n",
    "    if action[0] == 0:\n",
    "        pass\n",
    "    elif action[1] == 0:\n",
    "        pass\n",
    "    else:\n",
    "        if action[0] <= action[1]:\n",
    "            # Only diagonal movement\n",
    "            pass\n",
    "        else:\n",
    "            # Diagonal plus ahead\n",
    "            pass\n",
    "    \n",
    "\n",
    "def monte_carlo():\n",
    "    Q = {}\n",
    "    \n",
    "    for _ in range(1000):\n",
    "        # Start episode \n",
    "        alive = True\n",
    "\n",
    "        state = starts[np.random.randint(0,len(starts))]\n",
    "\n",
    "        while alive:\n",
    "            \n",
    "            action = actions[np.random.randint(0,len(starts))]\n",
    "            \n",
    "        break"
   ]
  },
  {
   "cell_type": "code",
   "execution_count": null,
   "metadata": {},
   "outputs": [],
   "source": []
  }
 ],
 "metadata": {
  "kernelspec": {
   "display_name": "Python 3",
   "language": "python",
   "name": "python3"
  },
  "language_info": {
   "codemirror_mode": {
    "name": "ipython",
    "version": 3
   },
   "file_extension": ".py",
   "mimetype": "text/x-python",
   "name": "python",
   "nbconvert_exporter": "python",
   "pygments_lexer": "ipython3",
   "version": "3.6.9"
  }
 },
 "nbformat": 4,
 "nbformat_minor": 4
}

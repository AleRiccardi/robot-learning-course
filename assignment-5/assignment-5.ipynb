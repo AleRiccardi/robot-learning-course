{
 "cells": [
  {
   "cell_type": "markdown",
   "metadata": {},
   "source": [
    "## General"
   ]
  },
  {
   "cell_type": "code",
   "execution_count": 9,
   "metadata": {},
   "outputs": [
    {
     "name": "stdout",
     "output_type": "stream",
     "text": [
      "[[-1.0 -1.0 -1.0 -25.0 -25.0 -25.0 -25.0]\n",
      " [-1.0 -1.0 -1.0 -1.0 -1.0 -1.0 -25.0]\n",
      " [-1.0 -1.0 -25.0 -1.0 -25.0 -1.0 100.0]\n",
      " [-1.0 -25.0 -25.0 -1.0 -1.0 -25.0 -1.0]\n",
      " [-1.0 -1.0 -1.0 -25.0 -25.0 -25.0 -1.0]]\n"
     ]
    }
   ],
   "source": [
    "# General imports\n",
    "import sys\n",
    "import operator\n",
    "import numpy as np\n",
    "\n",
    "np.set_printoptions(formatter={'float': lambda x: \"{0:0.1f}\".format(x)}, threshold=sys.maxsize)\n",
    "\n",
    "# Global variables\n",
    "GOAL = (2,6)\n",
    "START = (2,0)\n",
    "WORLD = -1. * np.ones((5,7))\n",
    "OBSTACLES = [(0,3),(0,4),(0,5),(0,6),(1,6),(2,2),(2,4),(3,1),(3,2),(3,5),(4,3),(4,4),(4,5)]\n",
    "    \n",
    "# Populate world\n",
    "WORLD[GOAL] = 100\n",
    "\n",
    "for obstacle in OBSTACLES:\n",
    "    WORLD[obstacle] = -25\n",
    "\n",
    "print(WORLD)"
   ]
  },
  {
   "cell_type": "markdown",
   "metadata": {},
   "source": [
    "## Task 5.1"
   ]
  },
  {
   "cell_type": "code",
   "execution_count": 28,
   "metadata": {},
   "outputs": [],
   "source": [
    "# Move\n",
    "def move(state, action):\n",
    "    new_state = state.copy()\n",
    "    \n",
    "    # Right\n",
    "    if action == \"r\":\n",
    "        new_state[\"x\"] += 1\n",
    "    # Lower right\n",
    "    elif action == \"lr\":\n",
    "        new_state[\"x\"] += 1\n",
    "        new_state[\"y\"] += 1\n",
    "    # Down\n",
    "    elif action == \"d\":\n",
    "        new_state[\"y\"] += 1\n",
    "    # Lower left\n",
    "    elif action == \"ll\":\n",
    "        new_state[\"x\"] -= 1\n",
    "        new_state[\"y\"] += 1\n",
    "    # Left\n",
    "    elif action == \"l\":\n",
    "        new_state[\"x\"] -= 1\n",
    "    # Upper left\n",
    "    elif action == \"ul\":\n",
    "        new_state[\"x\"] -= 1\n",
    "        new_state[\"y\"] -= 1\n",
    "    # Up\n",
    "    elif action == \"u\":\n",
    "        new_state[\"y\"] -= 1\n",
    "    # Upper right\n",
    "    if action == \"ur\":\n",
    "        new_state[\"x\"] += 1\n",
    "        new_state[\"y\"] -= 1\n",
    "\n",
    "    return new_state\n",
    "\n",
    "# Check if state out of bound\n",
    "# and returns truncated state\n",
    "def truncate(state):\n",
    "    # Truncated state\n",
    "    new_state = state.copy()\n",
    "    \n",
    "    # Check if out of bounds\n",
    "    if new_state['y'] < 0:\n",
    "        new_state['y'] += 1\n",
    "        \n",
    "    if new_state['y'] >= WORLD.shape[0]:\n",
    "        new_state['y'] -= 1\n",
    "            \n",
    "    if new_state['x'] < 0:\n",
    "        new_state['x'] += 1\n",
    "        \n",
    "    if new_state['x'] >= WORLD.shape[1]:\n",
    "        new_state['x'] -= 1\n",
    "    \n",
    "    return new_state\n",
    "\n",
    "# Check if state terminal\n",
    "def terminal(state):\n",
    "    return True if (state['y'], state['x']) == GOAL or \\\n",
    "                   (state['y'], state['x']) in OBSTACLES \\\n",
    "                else False\n",
    "\n",
    "# Step function\n",
    "def step(state, action):\n",
    "    # Returns\n",
    "    done = None\n",
    "    reward = None\n",
    "    \n",
    "    # Move based on action\n",
    "    new_state = move(state, action)\n",
    "    \n",
    "    # Check that state is valid\n",
    "    new_state = truncate(new_state)\n",
    "    \n",
    "    # Check if state is terminal\n",
    "    done = terminal(new_state)\n",
    "    \n",
    "    # Get reward for new state\n",
    "    reward = WORLD[new_state['y'], new_state['x']]\n",
    "    \n",
    "    return (new_state, reward, done)"
   ]
  },
  {
   "cell_type": "code",
   "execution_count": null,
   "metadata": {},
   "outputs": [],
   "source": []
  }
 ],
 "metadata": {
  "kernelspec": {
   "display_name": "Python 3",
   "language": "python",
   "name": "python3"
  },
  "language_info": {
   "codemirror_mode": {
    "name": "ipython",
    "version": 3
   },
   "file_extension": ".py",
   "mimetype": "text/x-python",
   "name": "python",
   "nbconvert_exporter": "python",
   "pygments_lexer": "ipython3",
   "version": "3.7.2"
  }
 },
 "nbformat": 4,
 "nbformat_minor": 4
}

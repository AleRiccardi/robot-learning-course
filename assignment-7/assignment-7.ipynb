{
 "cells": [
  {
   "cell_type": "code",
   "execution_count": 39,
   "metadata": {},
   "outputs": [],
   "source": [
    "import numpy as np\n",
    "\n",
    "state = np.array([1, -.5, -.2, .5])\n",
    "cov = np.array([.001, .01, .001, .01])\n",
    "m_c, m_p, l = 5, 2, 0.8\n",
    "force = 0\n",
    "t = 0.01\n",
    "\n",
    "def compute_x_acc(force, theta, theta_vel, theta_acc):\n",
    "    x_acc = ((force - m_p * l * (theta_acc * np.cos(theta) - (theta_vel ** 2) * np.sin(theta)) * np.cos(theta)) /\n",
    "            (m_c + m_p))\n",
    "    return x_acc\n",
    "\n",
    "def compute_theta_acc(force, theta, theta_vel, g=9.81):\n",
    "    theta_acc = ((g * np.sin(theta) * (m_c + m_p) - (force + m_p * l * (theta_vel ** 2) * np.sin(theta)) * np.cos(theta)) /\n",
    "            ((4/3) * l * (m_c + m_p) - m_p * l * (np.cos(theta)**2)))\n",
    "    return theta_acc\n",
    "\n",
    "\n",
    "def update_state(state_t):\n",
    "    theta_acc_tt = compute_theta_acc(force, state_t[2], state_t[3])\n",
    "    x_acc_tt = compute_x_acc(force, state_t[2], state_t[3], theta_acc_tt)\n",
    "    \n",
    "    # Compute linear velocity\n",
    "    x_vel_tt = state_t[1] + x_acc_tt * t\n",
    "    # Compute next position\n",
    "    x_tt = state_t[0] + x_vel_tt * t\n",
    "    \n",
    "    # Compute angular velocity\n",
    "    theta_vel_tt = state_t[3] + theta_acc_tt * t\n",
    "    # Compute next theta\n",
    "    theta_tt = state_t[2] + theta_vel_tt * t\n",
    "    \n",
    "    # Update state\n",
    "    state_tt = np.array([x_tt, x_vel_tt, theta_tt, theta_vel_tt]) + cov\n",
    "    \n",
    "    return state_tt\n",
    "\n",
    "def update_interval(state_init, time=1):\n",
    "    state = state_init.copy()\n",
    "    for _ in range(int(time/t)):\n",
    "#         print(\"State: \", state)\n",
    "        state = update_state(state)\n",
    "    return state"
   ]
  },
  {
   "cell_type": "code",
   "execution_count": 42,
   "metadata": {},
   "outputs": [
    {
     "name": "stdout",
     "output_type": "stream",
     "text": [
      "[ 1.  -0.5 -0.2  0.5]\n",
      "[ 0.96700665 -0.35617449 -0.14707263  0.39847163]\n",
      "[0.96114303 0.1031815  0.04689016 0.53278777]\n",
      "[1.13822933 0.40238265 0.75950775 2.59430921]\n"
     ]
    }
   ],
   "source": [
    "state_final1 = update_interval(state, 0.1)\n",
    "state_final2 = update_interval(state, 0.5)\n",
    "state_final3 = update_interval(state, 1)\n",
    "\n",
    "print(state)\n",
    "print(state_final1)\n",
    "print(state_final2)\n",
    "print(state_final3)"
   ]
  },
  {
   "cell_type": "code",
   "execution_count": 23,
   "metadata": {},
   "outputs": [
    {
     "data": {
      "text/plain": [
       "100"
      ]
     },
     "execution_count": 23,
     "metadata": {},
     "output_type": "execute_result"
    }
   ],
   "source": [
    "int(1/t)"
   ]
  },
  {
   "cell_type": "code",
   "execution_count": null,
   "metadata": {},
   "outputs": [],
   "source": []
  }
 ],
 "metadata": {
  "kernelspec": {
   "display_name": "Python 3",
   "language": "python",
   "name": "python3"
  },
  "language_info": {
   "codemirror_mode": {
    "name": "ipython",
    "version": 3
   },
   "file_extension": ".py",
   "mimetype": "text/x-python",
   "name": "python",
   "nbconvert_exporter": "python",
   "pygments_lexer": "ipython3",
   "version": "3.7.2"
  }
 },
 "nbformat": 4,
 "nbformat_minor": 4
}
